{
 "cells": [
  {
   "cell_type": "code",
   "execution_count": 8,
   "metadata": {
    "collapsed": true
   },
   "outputs": [],
   "source": [
    "import pandas as pd\n",
    "import re"
   ]
  },
  {
   "cell_type": "code",
   "execution_count": 3,
   "metadata": {
    "collapsed": false
   },
   "outputs": [],
   "source": [
    "df = pd.read_csv('Project9.txt',header=None)"
   ]
  },
  {
   "cell_type": "markdown",
   "metadata": {},
   "source": [
    "## Part 1"
   ]
  },
  {
   "cell_type": "code",
   "execution_count": 38,
   "metadata": {
    "collapsed": false
   },
   "outputs": [],
   "source": [
    "data=df[0].iloc[0]\n",
    "outstr=''\n",
    "while len(data)>0:\n",
    "    # find next iteration\n",
    "    nextfinds = re.findall('\\(.+?x.+?\\)',data)\n",
    "    if len(nextfinds)>0:\n",
    "        nextfind=nextfinds[0]\n",
    "        nextfindidx = data.find(nextfind)\n",
    "        #add in any leftover characters, and prep data for parser\n",
    "        outstr+=data[:nextfindidx]\n",
    "        data = data[nextfindidx+len(nextfind):]\n",
    "        # Parse next find to get info on \n",
    "        charlen,repeat=[int(y) for y in nextfind[1:-1].split('x')]\n",
    "        repeatstr=data[:charlen]\n",
    "        data=data[charlen:]\n",
    "        outstr+=repeatstr*repeat\n",
    "    else:\n",
    "        outstr+=data\n",
    "        data=''"
   ]
  },
  {
   "cell_type": "code",
   "execution_count": 39,
   "metadata": {
    "collapsed": false
   },
   "outputs": [
    {
     "data": {
      "text/plain": [
       "97714"
      ]
     },
     "execution_count": 39,
     "metadata": {},
     "output_type": "execute_result"
    }
   ],
   "source": [
    "len(outstr)"
   ]
  },
  {
   "cell_type": "markdown",
   "metadata": {},
   "source": [
    "## Part 2"
   ]
  },
  {
   "cell_type": "code",
   "execution_count": 129,
   "metadata": {
    "collapsed": false
   },
   "outputs": [],
   "source": [
    "def find_compression(multstr,repeatstring):\n",
    "    currentsum=0\n",
    "    while len(repeatstring)>0:\n",
    "        nextfinds = re.findall('\\(.+?x.+?\\)',repeatstring)\n",
    "        if len(nextfinds)>0:\n",
    "            nextfind=nextfinds[0]\n",
    "            nextfindidx = repeatstring.find(nextfind)\n",
    "            #add in any leftover characters, and prep data for parser\n",
    "            #string+=string[:nextfindidx]\n",
    "            charlen,repeat=[int(y) for y in nextfind[1:-1].split('x')]\n",
    "            #print charlen, repeat\n",
    "            currentsum+=nextfindidx\n",
    "            repeatstring=repeatstring[nextfindidx:]\n",
    "            repeatstr=repeatstring[len(nextfind):charlen+len(nextfind)]\n",
    "\n",
    "            repeatstring = repeatstring[len(nextfind)+charlen:]\n",
    "            #print nextfind,repeatstr, repeatstring\n",
    "\n",
    "            # Parse next find to get info on \n",
    "            newlen = find_compression(nextfind,repeatstr)\n",
    "            charlen,repeat=[int(y) for y in multstr[1:-1].split('x')]\n",
    "            #print charlen, repeat, nextfind, repeatstr, newlen\n",
    "            currentsum+= newlen*repeat\n",
    "        else:\n",
    "            charlen,repeat=[int(y) for y in multstr[1:-1].split('x')]\n",
    "            #print 'here'\n",
    "            currentsum+= charlen*repeat\n",
    "            repeatstring=''\n",
    "    return currentsum"
   ]
  },
  {
   "cell_type": "code",
   "execution_count": 130,
   "metadata": {
    "collapsed": false
   },
   "outputs": [
    {
     "data": {
      "text/plain": [
       "6282"
      ]
     },
     "execution_count": 130,
     "metadata": {},
     "output_type": "execute_result"
    }
   ],
   "source": [
    "2*(15*(2*15+7*4)+7*7+11*(10+29*4+3*15+2*15)+11)"
   ]
  },
  {
   "cell_type": "code",
   "execution_count": 139,
   "metadata": {
    "collapsed": false,
    "scrolled": true
   },
   "outputs": [
    {
     "name": "stdout",
     "output_type": "stream",
     "text": [
      "10762972461\n"
     ]
    }
   ],
   "source": [
    "data=df[0].iloc[0]\n",
    "#data = '(25x3)(3x3)ABC(2x3)XY(5x2)PQRSTX(18x9)(3x2)TWO(5x7)SEVEN'\n",
    "totallen = 0\n",
    "while len(data)>0:\n",
    "    #print data\n",
    "    # find next iteration\n",
    "    nextfinds = re.findall('\\(.+?x.+?\\)',data)\n",
    "    if len(nextfinds)>0:\n",
    "        nextfind=nextfinds[0]\n",
    "        nextfindidx = data.find(nextfind)\n",
    "        #add in any leftover characters, and prep data for parser\n",
    "        totallen+=nextfindidx\n",
    "        data = data[nextfindidx+len(nextfind):]\n",
    "        # Parse next find to get info on \n",
    "        charlen,repeat=[int(y) for y in nextfind[1:-1].split('x')]\n",
    "        repeatstr=data[:charlen]\n",
    "        data=data[charlen:]\n",
    "        #print repeatstr,'\\n',nextfind,charlen,repeat,'\\n'\n",
    "        totallen+=find_compression(nextfind,repeatstr)\n",
    "        #print totallen,'\\n'\n",
    "\n",
    "    else:\n",
    "        #print outstr\n",
    "        totallen+=len(data)\n",
    "        data=''\n",
    "print totallen"
   ]
  },
  {
   "cell_type": "code",
   "execution_count": 133,
   "metadata": {
    "collapsed": false
   },
   "outputs": [
    {
     "data": {
      "text/plain": [
       "20"
      ]
     },
     "execution_count": 133,
     "metadata": {},
     "output_type": "execute_result"
    }
   ],
   "source": [
    "len('XABCABCABCABCABCABCY')"
   ]
  },
  {
   "cell_type": "code",
   "execution_count": 105,
   "metadata": {
    "collapsed": false
   },
   "outputs": [
    {
     "data": {
      "text/plain": [
       "10762972448"
      ]
     },
     "execution_count": 105,
     "metadata": {},
     "output_type": "execute_result"
    }
   ],
   "source": [
    "totallen"
   ]
  },
  {
   "cell_type": "code",
   "execution_count": 97,
   "metadata": {
    "collapsed": false
   },
   "outputs": [
    {
     "data": {
      "text/plain": [
       "7346"
      ]
     },
     "execution_count": 97,
     "metadata": {},
     "output_type": "execute_result"
    }
   ],
   "source": [
    "6282+1064"
   ]
  },
  {
   "cell_type": "code",
   "execution_count": 124,
   "metadata": {
    "collapsed": false
   },
   "outputs": [
    {
     "data": {
      "text/plain": [
       "33126"
      ]
     },
     "execution_count": 124,
     "metadata": {},
     "output_type": "execute_result"
    }
   ],
   "source": [
    "# (10x8)DNMWSUEGYZ(60x12)(36x10)RFWPBFRPFUUERWOMFVIPLIIVNIKYBEPNAEMO(11x4)DJQYLWDSUYF(28x4)KMFEZNRDVFPALMIBTUSSIKBEDDES(25x4)WHBANBCBSMYYJJYMXMEHSVHLK(8x2)DXMYJAOA \n",
    "# (161x5) 161 5 \n",
    "5*((10*8)+12*(36*10+11*4)+28*4+25*4+8*2)+7346"
   ]
  },
  {
   "cell_type": "code",
   "execution_count": null,
   "metadata": {
    "collapsed": true
   },
   "outputs": [],
   "source": []
  },
  {
   "cell_type": "code",
   "execution_count": null,
   "metadata": {
    "collapsed": true
   },
   "outputs": [],
   "source": [
    "10762972448 too low, 10762972448 too high"
   ]
  }
 ],
 "metadata": {
  "kernelspec": {
   "display_name": "Python 2",
   "language": "python",
   "name": "python2"
  },
  "language_info": {
   "codemirror_mode": {
    "name": "ipython",
    "version": 2
   },
   "file_extension": ".py",
   "mimetype": "text/x-python",
   "name": "python",
   "nbconvert_exporter": "python",
   "pygments_lexer": "ipython2",
   "version": "2.7.11"
  }
 },
 "nbformat": 4,
 "nbformat_minor": 0
}
