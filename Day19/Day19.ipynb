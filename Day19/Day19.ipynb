{
 "cells": [
  {
   "cell_type": "code",
   "execution_count": 10,
   "metadata": {
    "collapsed": false
   },
   "outputs": [],
   "source": [
    "#create elf dict\n",
    "num_gifts=3014603\n",
    "\n",
    "class elf():\n",
    "    def __init__(self,elfnum,numpres):\n",
    "        self.elfnum=elfnum\n",
    "        self.numpres=numpres\n",
    "elveslist=[elf(i,1) for i in range(1,num_gifts+1)]"
   ]
  },
  {
   "cell_type": "code",
   "execution_count": 108,
   "metadata": {
    "collapsed": false
   },
   "outputs": [
    {
     "name": "stdout",
     "output_type": "stream",
     "text": [
      "time: 1.49 ms\n"
     ]
    }
   ],
   "source": [
    "#yeah, this is very inefficient\n",
    "# elf_index=0\n",
    "# while len(elveslist)>1:\n",
    "#     current_elf=elveslist[elf_index]\n",
    "#     if current_elf.numpres==0:\n",
    "#         elveslist.pop(elf_index)\n",
    "#     else:\n",
    "#         current_elf.numpres+=elveslist[(elf_index+1)%len(elveslist)].numpres\n",
    "#         elveslist[(elf_index+1)%len(elveslist)].numpres=0\n",
    "#     elf_index=(elf_index+1)%len(elveslist)"
   ]
  },
  {
   "cell_type": "code",
   "execution_count": 65,
   "metadata": {
    "collapsed": true
   },
   "outputs": [],
   "source": [
    "#list slicing!\n",
    "def remove_list(starttype,currentlist):\n",
    "    if starttype=='odd':\n",
    "        newlist=currentlist[::2]\n",
    "    elif starttype=='even':\n",
    "        newlist=currentlist[1::2]\n",
    "    return newlist"
   ]
  },
  {
   "cell_type": "code",
   "execution_count": 70,
   "metadata": {
    "collapsed": true
   },
   "outputs": [],
   "source": [
    "%load_ext autotime"
   ]
  },
  {
   "cell_type": "code",
   "execution_count": 71,
   "metadata": {
    "collapsed": false
   },
   "outputs": [
    {
     "name": "stdout",
     "output_type": "stream",
     "text": [
      "time: 818 ms\n"
     ]
    }
   ],
   "source": [
    "num_gifts=3014603\n",
    "elflist=[i for i in range(1,num_gifts+1)]\n",
    "slicetype='odd'\n",
    "end=False\n",
    "while len(elflist)>1:\n",
    "    if slicetype=='odd' and len(elflist)%2==1:\n",
    "        newslicetype='even'\n",
    "    elif slicetype=='even' and len(elflist)%2==1:\n",
    "        newslicetype='odd'\n",
    "    else:\n",
    "        newslicetype=slicetype\n",
    "    elflist=remove_list(slicetype,elflist)\n",
    "\n",
    "    \n",
    "    slicetype=newslicetype"
   ]
  },
  {
   "cell_type": "code",
   "execution_count": 69,
   "metadata": {
    "collapsed": false
   },
   "outputs": [
    {
     "data": {
      "text/plain": [
       "[1834903]"
      ]
     },
     "execution_count": 69,
     "metadata": {},
     "output_type": "execute_result"
    }
   ],
   "source": [
    "elflist"
   ]
  },
  {
   "cell_type": "code",
   "execution_count": null,
   "metadata": {
    "collapsed": true
   },
   "outputs": [],
   "source": [
    "#1834902 too low"
   ]
  },
  {
   "cell_type": "code",
   "execution_count": 16,
   "metadata": {
    "collapsed": true
   },
   "outputs": [],
   "source": [
    "start=3000000\n",
    "tempsum=start"
   ]
  },
  {
   "cell_type": "code",
   "execution_count": 43,
   "metadata": {
    "collapsed": true
   },
   "outputs": [],
   "source": [
    "tempsum+=start/2\n",
    "start/=2"
   ]
  },
  {
   "cell_type": "code",
   "execution_count": 44,
   "metadata": {
    "collapsed": false
   },
   "outputs": [
    {
     "name": "stdout",
     "output_type": "stream",
     "text": [
      "5999813 183\n"
     ]
    }
   ],
   "source": [
    "print tempsum,start"
   ]
  },
  {
   "cell_type": "code",
   "execution_count": 45,
   "metadata": {
    "collapsed": true
   },
   "outputs": [],
   "source": [
    "sss=[1,2,3,4,5]"
   ]
  },
  {
   "cell_type": "code",
   "execution_count": 78,
   "metadata": {
    "collapsed": false
   },
   "outputs": [
    {
     "data": {
      "text/plain": [
       "2"
      ]
     },
     "execution_count": 78,
     "metadata": {},
     "output_type": "execute_result"
    },
    {
     "name": "stdout",
     "output_type": "stream",
     "text": [
      "time: 1.82 ms\n"
     ]
    }
   ],
   "source": [
    "5/2"
   ]
  },
  {
   "cell_type": "markdown",
   "metadata": {
    "collapsed": true
   },
   "source": [
    "### Part2"
   ]
  },
  {
   "cell_type": "code",
   "execution_count": 72,
   "metadata": {
    "collapsed": false
   },
   "outputs": [
    {
     "name": "stdout",
     "output_type": "stream",
     "text": [
      "time: 721 µs\n"
     ]
    }
   ],
   "source": [
    "#hmm, does list slicing still work here?\n",
    "#prob not, as the removal of an item changes the pattern"
   ]
  },
  {
   "cell_type": "code",
   "execution_count": 80,
   "metadata": {
    "collapsed": false
   },
   "outputs": [
    {
     "name": "stdout",
     "output_type": "stream",
     "text": [
      "time: 1.34 ms\n"
     ]
    }
   ],
   "source": [
    "def shift_list(curlist):\n",
    "    newlist=curlist[1:]+curlist[:1]\n",
    "    return newlist"
   ]
  },
  {
   "cell_type": "code",
   "execution_count": 119,
   "metadata": {
    "collapsed": false
   },
   "outputs": [
    {
     "name": "stdout",
     "output_type": "stream",
     "text": [
      "time: 2.39 ms\n"
     ]
    }
   ],
   "source": [
    "def remove_elf(curlist):\n",
    "    if len(curlist)%2==0:\n",
    "        x=curlist.pop(len(curlist)/2)\n",
    "    elif len(curlist)%2==1:\n",
    "        x=curlist.pop(len(curlist)/2)\n",
    "    return x"
   ]
  },
  {
   "cell_type": "code",
   "execution_count": 270,
   "metadata": {
    "collapsed": false
   },
   "outputs": [
    {
     "name": "stdout",
     "output_type": "stream",
     "text": [
      "[2, 3, 4, 5, 6, 7, 8, 9, 10, 11, 12, 13, 14, 16, 17, 18, 19, 20, 21, 22, 23, 24, 25, 26, 27, 28, 29, 1] 15\n",
      "[3, 4, 5, 6, 7, 8, 9, 10, 11, 12, 13, 14, 16, 18, 19, 20, 21, 22, 23, 24, 25, 26, 27, 28, 29, 1, 2] 17\n",
      "[4, 5, 6, 7, 8, 9, 10, 11, 12, 13, 14, 16, 19, 20, 21, 22, 23, 24, 25, 26, 27, 28, 29, 1, 2, 3] 18\n",
      "[5, 6, 7, 8, 9, 10, 11, 12, 13, 14, 16, 19, 21, 22, 23, 24, 25, 26, 27, 28, 29, 1, 2, 3, 4] 20\n",
      "[6, 7, 8, 9, 10, 11, 12, 13, 14, 16, 19, 22, 23, 24, 25, 26, 27, 28, 29, 1, 2, 3, 4, 5] 21\n",
      "[7, 8, 9, 10, 11, 12, 13, 14, 16, 19, 22, 24, 25, 26, 27, 28, 29, 1, 2, 3, 4, 5, 6] 23\n",
      "[8, 9, 10, 11, 12, 13, 14, 16, 19, 22, 25, 26, 27, 28, 29, 1, 2, 3, 4, 5, 6, 7] 24\n",
      "[9, 10, 11, 12, 13, 14, 16, 19, 22, 25, 27, 28, 29, 1, 2, 3, 4, 5, 6, 7, 8] 26\n",
      "[10, 11, 12, 13, 14, 16, 19, 22, 25, 28, 29, 1, 2, 3, 4, 5, 6, 7, 8, 9] 27\n",
      "[11, 12, 13, 14, 16, 19, 22, 25, 28, 1, 2, 3, 4, 5, 6, 7, 8, 9, 10] 29\n",
      "[12, 13, 14, 16, 19, 22, 25, 28, 2, 3, 4, 5, 6, 7, 8, 9, 10, 11] 1\n",
      "[13, 14, 16, 19, 22, 25, 28, 2, 4, 5, 6, 7, 8, 9, 10, 11, 12] 3\n",
      "[14, 16, 19, 22, 25, 28, 2, 5, 6, 7, 8, 9, 10, 11, 12, 13] 4\n",
      "[16, 19, 22, 25, 28, 2, 5, 7, 8, 9, 10, 11, 12, 13, 14] 6\n",
      "[19, 22, 25, 28, 2, 5, 8, 9, 10, 11, 12, 13, 14, 16] 7\n",
      "[22, 25, 28, 2, 5, 8, 10, 11, 12, 13, 14, 16, 19] 9\n",
      "[25, 28, 2, 5, 8, 11, 12, 13, 14, 16, 19, 22] 10\n",
      "[28, 2, 5, 8, 11, 13, 14, 16, 19, 22, 25] 12\n",
      "[2, 5, 8, 11, 14, 16, 19, 22, 25, 28] 13\n",
      "[5, 8, 11, 14, 19, 22, 25, 28, 2] 16\n",
      "[8, 11, 14, 22, 25, 28, 2, 5] 19\n",
      "[11, 14, 22, 28, 2, 5, 8] 25\n",
      "[14, 22, 2, 5, 8, 11] 28\n",
      "[22, 2, 8, 11, 14] 5\n",
      "[2, 11, 14, 22] 8\n",
      "[11, 22, 2] 14\n",
      "[2, 11] 22\n",
      "[2] 11\n",
      "time: 3.24 ms\n"
     ]
    }
   ],
   "source": [
    "num_gifts=29\n",
    "elflist=[i for i in range(1,num_gifts+1)]\n",
    "while len(elflist)>1:\n",
    "    if len(elflist)%10000==0:\n",
    "        print len(elflist)\n",
    "    x=remove_elf(elflist)\n",
    "    elflist=shift_list(elflist)\n",
    "    print elflist, x"
   ]
  },
  {
   "cell_type": "code",
   "execution_count": null,
   "metadata": {
    "collapsed": false
   },
   "outputs": [],
   "source": []
  },
  {
   "cell_type": "markdown",
   "metadata": {},
   "source": [
    "## still too expensive - 1 minute for only a few hundred elves!\n",
    "As we can see from this example, what we have is some more interesting slicing!\n",
    "Starting from a certain point, we start removing pairs of numbers after the first one"
   ]
  },
  {
   "cell_type": "code",
   "execution_count": 231,
   "metadata": {
    "collapsed": false
   },
   "outputs": [
    {
     "name": "stdout",
     "output_type": "stream",
     "text": [
      "time: 2.4 ms\n"
     ]
    }
   ],
   "source": [
    "#list slicing!\n",
    "def remove_list(starttype,currentlist):\n",
    "    \n",
    "    if starttype=='odd':\n",
    "        newlist=currentlist[::2]\n",
    "    elif starttype=='even':\n",
    "        newlist=currentlist[1::2]\n",
    "    return newlist"
   ]
  },
  {
   "cell_type": "code",
   "execution_count": null,
   "metadata": {
    "collapsed": false
   },
   "outputs": [],
   "source": []
  },
  {
   "cell_type": "code",
   "execution_count": 274,
   "metadata": {
    "collapsed": false
   },
   "outputs": [
    {
     "name": "stdout",
     "output_type": "stream",
     "text": [
      "[1420280]\n",
      "time: 259 ms\n"
     ]
    }
   ],
   "source": [
    "num_gifts=3014603\n",
    "#generate list\n",
    "tlist=range(1,num_gifts+1)\n",
    "# we create the elflist based on the slice halfway through\n",
    "# this is because we start our slicing here\n",
    "tlist1=tlist[:len(tlist)/2]\n",
    "tlist2=tlist[len(tlist)/2:]\n",
    "elflist=tlist2+tlist1\n",
    "#first filter\n",
    "# depending on whether its an even or odd number tells us whether the first number\n",
    "# or the first two numbers get cut before slicing every third\n",
    "if num_gifts%2==0:\n",
    "    newlist=(elflist)[2::3]\n",
    "else:\n",
    "    newlist=(elflist)[1::3]\n",
    "offset=len(elflist)-(elflist.index(newlist[-1])+1)\n",
    "elflist=newlist\n",
    "while len(elflist)>1:\n",
    "    if len(elflist)<3:\n",
    "        elflist=elflist[-1:]\n",
    "    else:\n",
    "        newlist=elflist[2-offset::3]\n",
    "        offset=len(elflist)-(elflist.index(newlist[-1])+1)\n",
    "        elflist=newlist\n",
    "print elflist"
   ]
  },
  {
   "cell_type": "code",
   "execution_count": null,
   "metadata": {
    "collapsed": false
   },
   "outputs": [],
   "source": []
  },
  {
   "cell_type": "code",
   "execution_count": null,
   "metadata": {
    "collapsed": true
   },
   "outputs": [],
   "source": []
  }
 ],
 "metadata": {
  "kernelspec": {
   "display_name": "Python 2",
   "language": "python",
   "name": "python2"
  },
  "language_info": {
   "codemirror_mode": {
    "name": "ipython",
    "version": 2
   },
   "file_extension": ".py",
   "mimetype": "text/x-python",
   "name": "python",
   "nbconvert_exporter": "python",
   "pygments_lexer": "ipython2",
   "version": "2.7.11"
  }
 },
 "nbformat": 4,
 "nbformat_minor": 0
}
