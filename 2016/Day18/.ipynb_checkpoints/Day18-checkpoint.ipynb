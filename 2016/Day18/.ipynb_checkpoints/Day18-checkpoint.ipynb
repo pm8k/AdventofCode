{
 "cells": [
  {
   "cell_type": "code",
   "execution_count": 1,
   "metadata": {
    "collapsed": true
   },
   "outputs": [],
   "source": [
    "puzzleinput='.^^^.^.^^^.^.......^^.^^^^.^^^^..^^^^^.^.^^^..^^.^.^^..^.^..^^...^.^^.^^^...^^.^.^^^..^^^^.....^....'\n",
    "leftside=0\n",
    "rightside=len(puzzleinput)-1"
   ]
  },
  {
   "cell_type": "code",
   "execution_count": 4,
   "metadata": {
    "collapsed": true
   },
   "outputs": [],
   "source": [
    "def determine_safe_tile(rowstr,i):\n",
    "    if i==leftside:\n",
    "        left='.'\n",
    "        center=rowstr[i]\n",
    "        right=rowstr[i+1]\n",
    "    elif i==rightside:\n",
    "        left=rowstr[i-1]\n",
    "        center=rowstr[i]\n",
    "        right='.'\n",
    "    else:\n",
    "        left=rowstr[i-1]\n",
    "        center=rowstr[i]\n",
    "        right=rowstr[i+1]\n",
    "        \n",
    "    #determine new safe/trap\n",
    "    if left=='^' and center=='^' and right=='.':\n",
    "        newspace='^'\n",
    "    elif left=='.' and center=='^' and right=='^':\n",
    "        newspace='^'\n",
    "    elif left=='^' and center=='.' and right=='.':\n",
    "        newspace='^'\n",
    "    elif left=='.' and center=='.' and right=='^':\n",
    "        newspace='^'\n",
    "    else:\n",
    "        newspace='.'\n",
    "    return newspace\n"
   ]
  },
  {
   "cell_type": "code",
   "execution_count": 6,
   "metadata": {
    "collapsed": false
   },
   "outputs": [
    {
     "data": {
      "text/plain": [
       "2013"
      ]
     },
     "execution_count": 6,
     "metadata": {},
     "output_type": "execute_result"
    }
   ],
   "source": [
    "leftside=0\n",
    "rightside=len(puzzleinput)-1\n",
    "rowstr=puzzleinput\n",
    "rowstrlist=[rowstr]\n",
    "for j in range(39):\n",
    "    newrowstr=''\n",
    "    for i in range(len(rowstr)):\n",
    "        newchar=determine_safe_tile(rowstr,i)\n",
    "        newrowstr+=newchar\n",
    "    rowstrlist.append(newrowstr)\n",
    "    rowstr=newrowstr\n",
    "finalstr=''.join(rowstrlist)\n",
    "finalstr.count('.')"
   ]
  },
  {
   "cell_type": "code",
   "execution_count": 7,
   "metadata": {
    "collapsed": true
   },
   "outputs": [],
   "source": [
    "#PArt 2"
   ]
  },
  {
   "cell_type": "code",
   "execution_count": 8,
   "metadata": {
    "collapsed": false
   },
   "outputs": [
    {
     "data": {
      "text/plain": [
       "20006289"
      ]
     },
     "execution_count": 8,
     "metadata": {},
     "output_type": "execute_result"
    }
   ],
   "source": [
    "leftside=0\n",
    "rightside=len(puzzleinput)-1\n",
    "rowstr=puzzleinput\n",
    "rowstrlist=[rowstr]\n",
    "for j in range(400000-1):\n",
    "    newrowstr=''\n",
    "    for i in range(len(rowstr)):\n",
    "        newchar=determine_safe_tile(rowstr,i)\n",
    "        newrowstr+=newchar\n",
    "    rowstrlist.append(newrowstr)\n",
    "    rowstr=newrowstr\n",
    "finalstr=''.join(rowstrlist)\n",
    "finalstr.count('.')"
   ]
  },
  {
   "cell_type": "code",
   "execution_count": null,
   "metadata": {
    "collapsed": true
   },
   "outputs": [],
   "source": []
  }
 ],
 "metadata": {
  "kernelspec": {
   "display_name": "Python 2",
   "language": "python",
   "name": "python2"
  },
  "language_info": {
   "codemirror_mode": {
    "name": "ipython",
    "version": 2
   },
   "file_extension": ".py",
   "mimetype": "text/x-python",
   "name": "python",
   "nbconvert_exporter": "python",
   "pygments_lexer": "ipython2",
   "version": "2.7.11"
  }
 },
 "nbformat": 4,
 "nbformat_minor": 0
}
