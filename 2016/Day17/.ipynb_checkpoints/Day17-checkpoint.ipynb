{
 "cells": [
  {
   "cell_type": "code",
   "execution_count": 3,
   "metadata": {
    "collapsed": true
   },
   "outputs": [],
   "source": [
    "import hashlib"
   ]
  },
  {
   "cell_type": "code",
   "execution_count": 108,
   "metadata": {
    "collapsed": true
   },
   "outputs": [],
   "source": [
    "def determine_open_doors(loc,hashstr):\n",
    "    m=hashlib.md5()\n",
    "    m.update(hashstr)\n",
    "    h=m.hexdigest()\n",
    "    openlist=['b','c','d','e','f']\n",
    "    opendoors=[1 if char in openlist else 0 for char in h[:4]]\n",
    "    doororder=['U','D','L','R']\n",
    "    doordict={doororder[i]:opendoors[i] for i in range(4)}\n",
    "    #based on determination, modify values based on loc so that it handles the cases of walls\n",
    "    if loc[0]==1:\n",
    "        doordict['L']=0\n",
    "    if loc[0]==4:\n",
    "        doordict['R']=0\n",
    "    if loc[1]==1:\n",
    "        doordict['U']=0\n",
    "    if loc[1]==4:\n",
    "        doordict['D']=0\n",
    "    opendirs={k: v for k, v in doordict.iteritems() if v==1}\n",
    "    return opendirs"
   ]
  },
  {
   "cell_type": "code",
   "execution_count": 109,
   "metadata": {
    "collapsed": true
   },
   "outputs": [],
   "source": [
    "dir_dict={\n",
    "    'D':(0,1),\n",
    "    'U':(0,-1),\n",
    "    'L':(-1,0),\n",
    "    'R':(1,0)\n",
    "}\n",
    "def move(loc,direc):\n",
    "    directup=dir_dict[direc]\n",
    "    return (loc[0]+directup[0],loc[1]+directup[1])"
   ]
  },
  {
   "cell_type": "code",
   "execution_count": 110,
   "metadata": {
    "collapsed": true
   },
   "outputs": [],
   "source": [
    "class Node():\n",
    "    def __init__(self,loc,parent,dirstr):\n",
    "        self.loc=loc\n",
    "        self.children=[]\n",
    "        self.parent=parent\n",
    "        self.dirstr=dirstr\n",
    "    \n",
    "    def create_child(self,loc,newdir):\n",
    "        newnode=Node(loc,self,self.dirstr+newdir)\n",
    "        self.children.append(newnode)\n",
    "        return newnode\n",
    "        "
   ]
  },
  {
   "cell_type": "markdown",
   "metadata": {},
   "source": [
    "## Part 1"
   ]
  },
  {
   "cell_type": "code",
   "execution_count": 111,
   "metadata": {
    "collapsed": false
   },
   "outputs": [],
   "source": [
    "puzzleinput='mmsxrhfx'\n",
    "firstnode=Node((1,1),None,puzzleinput)\n",
    "finaldestination=(4,4)\n",
    "childrennodes=[firstnode]\n",
    "finalnode=None\n",
    "end=False\n",
    "i=0\n",
    "while not end:\n",
    "    i+=1\n",
    "    newchildren=[]\n",
    "    #for each node, get the hash of its current str, and get valid output\n",
    "    for node in childrennodes:\n",
    "        dirdict=determine_open_doors(node.loc,node.dirstr)\n",
    "        for key, val in dirdict.iteritems():\n",
    "            newloc=move(node.loc,key)\n",
    "            newnode=node.create_child(newloc,key)\n",
    "            newchildren.append(newnode)\n",
    "            \n",
    "            \n",
    "            \n",
    "#     for node in childrennodes:\n",
    "#         #lets add children for our child nodes\n",
    "#         if node.left_type=='space':\n",
    "#             #make sure node isn't already in tree\n",
    "#             intree=search_tree(firstnode,node.left)\n",
    "#             if intree==False:\n",
    "#                 newnode=node.create_child(node.left)\n",
    "#                 newchildren.append(newnode)\n",
    "#         if node.right_type=='space':\n",
    "#             #make sure node isn't already in tree\n",
    "#             intree=search_tree(firstnode,node.right)\n",
    "#             if intree==False:\n",
    "#                 newnode=node.create_child(node.right)\n",
    "#                 newchildren.append(newnode)\n",
    "#         if node.up_type=='space':\n",
    "#             #make sure node isn't already in tree\n",
    "#             intree=search_tree(firstnode,node.up)\n",
    "#             if intree==False:\n",
    "#                 newnode=node.create_child(node.up)\n",
    "#                 newchildren.append(newnode)\n",
    "#         if node.down_type=='space':\n",
    "#             #make sure node isn't already in tree\n",
    "#             intree=search_tree(firstnode,node.down)\n",
    "#             if intree==False:\n",
    "#                 newnode=node.create_child(node.down)\n",
    "#                 newchildren.append(newnode)\n",
    "    \n",
    "    \n",
    "    childrennodes=newchildren\n",
    "\n",
    "    for child in childrennodes:\n",
    "        if child.loc==finaldestination:\n",
    "            finalnode=child\n",
    "            end=True\n",
    "    if len(childrennodes)==0:\n",
    "        end=True"
   ]
  },
  {
   "cell_type": "code",
   "execution_count": 112,
   "metadata": {
    "collapsed": false
   },
   "outputs": [
    {
     "data": {
      "text/plain": [
       "'RLDUDRDDRR'"
      ]
     },
     "execution_count": 112,
     "metadata": {},
     "output_type": "execute_result"
    }
   ],
   "source": [
    "finalnode.dirstr[8:]"
   ]
  },
  {
   "cell_type": "markdown",
   "metadata": {},
   "source": [
    "## Part 2"
   ]
  },
  {
   "cell_type": "code",
   "execution_count": 113,
   "metadata": {
    "collapsed": true
   },
   "outputs": [],
   "source": [
    "puzzleinput='mmsxrhfx'\n",
    "firstnode=Node((1,1),None,puzzleinput)\n",
    "finaldestination=(4,4)\n",
    "childrennodes=[firstnode]\n",
    "finalnode=None\n",
    "end=False\n",
    "i=0\n",
    "strlist=[]\n",
    "while not end:\n",
    "    i+=1\n",
    "    newchildren=[]\n",
    "    #for each node, get the hash of its current str, and get valid output\n",
    "    for node in childrennodes:\n",
    "        dirdict=determine_open_doors(node.loc,node.dirstr)\n",
    "        for key, val in dirdict.iteritems():\n",
    "            newloc=move(node.loc,key)\n",
    "            newnode=node.create_child(newloc,key)\n",
    "            newchildren.append(newnode)\n",
    "            if newloc==(4,4):\n",
    "                strlist.append(newnode.dirstr)\n",
    "            \n",
    "            \n",
    "            \n",
    "#     for node in childrennodes:\n",
    "#         #lets add children for our child nodes\n",
    "#         if node.left_type=='space':\n",
    "#             #make sure node isn't already in tree\n",
    "#             intree=search_tree(firstnode,node.left)\n",
    "#             if intree==False:\n",
    "#                 newnode=node.create_child(node.left)\n",
    "#                 newchildren.append(newnode)\n",
    "#         if node.right_type=='space':\n",
    "#             #make sure node isn't already in tree\n",
    "#             intree=search_tree(firstnode,node.right)\n",
    "#             if intree==False:\n",
    "#                 newnode=node.create_child(node.right)\n",
    "#                 newchildren.append(newnode)\n",
    "#         if node.up_type=='space':\n",
    "#             #make sure node isn't already in tree\n",
    "#             intree=search_tree(firstnode,node.up)\n",
    "#             if intree==False:\n",
    "#                 newnode=node.create_child(node.up)\n",
    "#                 newchildren.append(newnode)\n",
    "#         if node.down_type=='space':\n",
    "#             #make sure node isn't already in tree\n",
    "#             intree=search_tree(firstnode,node.down)\n",
    "#             if intree==False:\n",
    "#                 newnode=node.create_child(node.down)\n",
    "#                 newchildren.append(newnode)\n",
    "    \n",
    "    #remove any that end at 4,4\n",
    "    \n",
    "    newchildren=[x for x in newchildren if x.loc!=(4,4)]\n",
    "    childrennodes=newchildren\n",
    "\n",
    "\n",
    "    if len(childrennodes)==0:\n",
    "        end=True"
   ]
  },
  {
   "cell_type": "code",
   "execution_count": 114,
   "metadata": {
    "collapsed": false
   },
   "outputs": [
    {
     "data": {
      "text/plain": [
       "590"
      ]
     },
     "execution_count": 114,
     "metadata": {},
     "output_type": "execute_result"
    }
   ],
   "source": [
    "len(strlist[-1][8:])"
   ]
  },
  {
   "cell_type": "code",
   "execution_count": null,
   "metadata": {
    "collapsed": true
   },
   "outputs": [],
   "source": []
  }
 ],
 "metadata": {
  "kernelspec": {
   "display_name": "Python 2",
   "language": "python",
   "name": "python2"
  },
  "language_info": {
   "codemirror_mode": {
    "name": "ipython",
    "version": 2
   },
   "file_extension": ".py",
   "mimetype": "text/x-python",
   "name": "python",
   "nbconvert_exporter": "python",
   "pygments_lexer": "ipython2",
   "version": "2.7.11"
  }
 },
 "nbformat": 4,
 "nbformat_minor": 0
}
