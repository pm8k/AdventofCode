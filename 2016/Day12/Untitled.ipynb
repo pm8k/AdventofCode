{
 "cells": [
  {
   "cell_type": "code",
   "execution_count": 1,
   "metadata": {
    "collapsed": true
   },
   "outputs": [],
   "source": [
    "import pandas as pd"
   ]
  },
  {
   "cell_type": "code",
   "execution_count": 10,
   "metadata": {
    "collapsed": false
   },
   "outputs": [
    {
     "name": "stderr",
     "output_type": "stream",
     "text": [
      "ERROR:root:Line magic function `%install_ext` not found.\n"
     ]
    }
   ],
   "source": [
    "%install_ext https://raw.github.com/cpcloud/ipython-autotime/master/autotime.py\n"
   ]
  },
  {
   "cell_type": "code",
   "execution_count": null,
   "metadata": {
    "collapsed": false
   },
   "outputs": [],
   "source": []
  },
  {
   "cell_type": "code",
   "execution_count": null,
   "metadata": {
    "collapsed": true
   },
   "outputs": [],
   "source": []
  },
  {
   "cell_type": "code",
   "execution_count": 2,
   "metadata": {
    "collapsed": true
   },
   "outputs": [],
   "source": [
    "df=pd.read_csv('Day12.csv',header=None)[0]"
   ]
  },
  {
   "cell_type": "code",
   "execution_count": 4,
   "metadata": {
    "collapsed": false
   },
   "outputs": [
    {
     "data": {
      "text/plain": [
       "0      cpy 1 a\n",
       "1      cpy 1 b\n",
       "2     cpy 26 d\n",
       "3      jnz c 2\n",
       "4      jnz 1 5\n",
       "5      cpy 7 c\n",
       "6        inc d\n",
       "7        dec c\n",
       "8     jnz c -2\n",
       "9      cpy a c\n",
       "10       inc a\n",
       "11       dec b\n",
       "12    jnz b -2\n",
       "13     cpy c b\n",
       "14       dec d\n",
       "15    jnz d -6\n",
       "16    cpy 18 c\n",
       "17    cpy 11 d\n",
       "18       inc a\n",
       "19       dec d\n",
       "20    jnz d -2\n",
       "21       dec c\n",
       "22    jnz c -5\n",
       "Name: 0, dtype: object"
      ]
     },
     "execution_count": 4,
     "metadata": {},
     "output_type": "execute_result"
    }
   ],
   "source": [
    "df"
   ]
  },
  {
   "cell_type": "code",
   "execution_count": 13,
   "metadata": {
    "collapsed": false
   },
   "outputs": [
    {
     "name": "stdout",
     "output_type": "stream",
     "text": [
      "318009\n"
     ]
    }
   ],
   "source": [
    "%timeit\n",
    "registers = {\n",
    "    'a': 0,\n",
    "    'b': 0,\n",
    "    'c': 0,\n",
    "    'd': 0\n",
    "}\n",
    "\n",
    "\n",
    "\n",
    "def read(v):\n",
    "    try:\n",
    "        return int(v)\n",
    "    except:\n",
    "        return registers[v]\n",
    "\n",
    "ip = 0\n",
    "while True:\n",
    "    if ip >= len(df):\n",
    "        break\n",
    "    ins = df.iloc[ip].split(' ')\n",
    "    if ins[0] == 'cpy':\n",
    "        registers[ins[2]] = read(ins[1])\n",
    "    elif ins[0] == 'inc':\n",
    "        registers[ins[1]] += 1\n",
    "    elif ins[0] == 'dec':\n",
    "        registers[ins[1]] -= 1\n",
    "    elif ins[0] == 'jnz':\n",
    "        if read(ins[1]) != 0:\n",
    "            ip += read(ins[2])\n",
    "            ip -= 1\n",
    "\n",
    "    ip += 1\n",
    "\n",
    "print registers['a']"
   ]
  },
  {
   "cell_type": "code",
   "execution_count": null,
   "metadata": {
    "collapsed": true
   },
   "outputs": [],
   "source": []
  }
 ],
 "metadata": {
  "anaconda-cloud": {},
  "kernelspec": {
   "display_name": "Python [default]",
   "language": "python",
   "name": "python2"
  },
  "language_info": {
   "codemirror_mode": {
    "name": "ipython",
    "version": 2
   },
   "file_extension": ".py",
   "mimetype": "text/x-python",
   "name": "python",
   "nbconvert_exporter": "python",
   "pygments_lexer": "ipython2",
   "version": "2.7.12"
  }
 },
 "nbformat": 4,
 "nbformat_minor": 1
}
