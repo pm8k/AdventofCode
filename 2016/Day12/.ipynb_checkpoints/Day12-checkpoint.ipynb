{
 "cells": [
  {
   "cell_type": "code",
   "execution_count": 2,
   "metadata": {
    "collapsed": true
   },
   "outputs": [],
   "source": [
    "import pandas as pd"
   ]
  },
  {
   "cell_type": "code",
   "execution_count": 3,
   "metadata": {
    "collapsed": false
   },
   "outputs": [],
   "source": [
    "df=pd.read_csv('Day12.csv',header=None)[0]"
   ]
  },
  {
   "cell_type": "code",
   "execution_count": 4,
   "metadata": {
    "collapsed": false
   },
   "outputs": [],
   "source": [
    "a,b,c=0,0,0"
   ]
  },
  {
   "cell_type": "code",
   "execution_count": 5,
   "metadata": {
    "collapsed": false
   },
   "outputs": [
    {
     "data": {
      "text/plain": [
       "0      cpy 1 a\n",
       "1      cpy 1 b\n",
       "2     cpy 26 d\n",
       "3      jnz c 2\n",
       "4      jnz 1 5\n",
       "5      cpy 7 c\n",
       "6        inc d\n",
       "7        dec c\n",
       "8     jnz c -2\n",
       "9      cpy a c\n",
       "10       inc a\n",
       "11       dec b\n",
       "12    jnz b -2\n",
       "13     cpy c b\n",
       "14       dec d\n",
       "15    jnz d -6\n",
       "16    cpy 18 c\n",
       "17    cpy 11 d\n",
       "18       inc a\n",
       "19       dec d\n",
       "20    jnz d -2\n",
       "21       dec c\n",
       "22    jnz c -5\n",
       "Name: 0, dtype: object"
      ]
     },
     "execution_count": 5,
     "metadata": {},
     "output_type": "execute_result"
    }
   ],
   "source": [
    "df"
   ]
  },
  {
   "cell_type": "code",
   "execution_count": 6,
   "metadata": {
    "collapsed": false
   },
   "outputs": [
    {
     "ename": "IndexError",
     "evalue": "list index out of range",
     "output_type": "error",
     "traceback": [
      "\u001b[0;31m---------------------------------------------------------------------------\u001b[0m",
      "\u001b[0;31mIndexError\u001b[0m                                Traceback (most recent call last)",
      "\u001b[0;32m<ipython-input-6-e40051d7c35f>\u001b[0m in \u001b[0;36m<module>\u001b[0;34m()\u001b[0m\n\u001b[1;32m     29\u001b[0m         \u001b[0mnum_dict\u001b[0m\u001b[0;34m[\u001b[0m\u001b[0mparsed\u001b[0m\u001b[0;34m[\u001b[0m\u001b[0;36m1\u001b[0m\u001b[0;34m]\u001b[0m\u001b[0;34m]\u001b[0m\u001b[0;34m+=\u001b[0m\u001b[0;36m1\u001b[0m\u001b[0;34m\u001b[0m\u001b[0m\n\u001b[1;32m     30\u001b[0m     \u001b[0;32melif\u001b[0m \u001b[0mparsed\u001b[0m\u001b[0;34m[\u001b[0m\u001b[0;36m0\u001b[0m\u001b[0;34m]\u001b[0m\u001b[0;34m==\u001b[0m\u001b[0;34m'dec'\u001b[0m\u001b[0;34m:\u001b[0m\u001b[0;34m\u001b[0m\u001b[0m\n\u001b[0;32m---> 31\u001b[0;31m         \u001b[0mnum_dict\u001b[0m\u001b[0;34m[\u001b[0m\u001b[0mparsed\u001b[0m\u001b[0;34m[\u001b[0m\u001b[0;36m1\u001b[0m\u001b[0;34m]\u001b[0m\u001b[0;34m]\u001b[0m\u001b[0;34m-=\u001b[0m\u001b[0mint\u001b[0m\u001b[0;34m(\u001b[0m\u001b[0mparsed\u001b[0m\u001b[0;34m[\u001b[0m\u001b[0;36m2\u001b[0m\u001b[0;34m]\u001b[0m\u001b[0;34m)\u001b[0m\u001b[0;34m\u001b[0m\u001b[0m\n\u001b[0m\u001b[1;32m     32\u001b[0m     \u001b[0mi\u001b[0m\u001b[0;34m+=\u001b[0m\u001b[0;36m1\u001b[0m\u001b[0;34m\u001b[0m\u001b[0m\n\u001b[1;32m     33\u001b[0m \u001b[0;34m\u001b[0m\u001b[0m\n",
      "\u001b[0;31mIndexError\u001b[0m: list index out of range"
     ]
    }
   ],
   "source": [
    "i=0\n",
    "num_dict={\n",
    "    'a':0,\n",
    "    'b':0,\n",
    "    'c':0,\n",
    "    'd':0\n",
    "}\n",
    "while i< len(df):\n",
    "    instruction=df.iloc[i]\n",
    "    parsed=instruction.split(' ')\n",
    "    if parsed[0]=='cpy':\n",
    "        value=parsed[1]\n",
    "        if value in num_dict.keys():\n",
    "            num_dict[parsed[2]]=num_dict[parsed[1]]\n",
    "        else:\n",
    "            num_dict[parsed[2]]=int(parsed[1])\n",
    "    elif parsed[0]=='jnz':\n",
    "        value=parsed[1]\n",
    "        if value in num_dict.keys():\n",
    "            if num_dict[value] != 0:\n",
    "                i+=int(parsed[2])\n",
    "\n",
    "                continue\n",
    "        else:\n",
    "            if int(parsed[1])!=0:\n",
    "                i+=int(parsed[2])\n",
    "                continue\n",
    "    elif parsed[0]=='inc':\n",
    "        num_dict[parsed[1]]+=1\n",
    "    elif parsed[0]=='dec':\n",
    "        num_dict[parsed[1]]-=1\n",
    "    i+=1\n",
    "    \n",
    "        "
   ]
  },
  {
   "cell_type": "code",
   "execution_count": null,
   "metadata": {
    "collapsed": true
   },
   "outputs": [],
   "source": []
  }
 ],
 "metadata": {
  "anaconda-cloud": {},
  "kernelspec": {
   "display_name": "Python [default]",
   "language": "python",
   "name": "python2"
  },
  "language_info": {
   "codemirror_mode": {
    "name": "ipython",
    "version": 2
   },
   "file_extension": ".py",
   "mimetype": "text/x-python",
   "name": "python",
   "nbconvert_exporter": "python",
   "pygments_lexer": "ipython2",
   "version": "2.7.12"
  }
 },
 "nbformat": 4,
 "nbformat_minor": 1
}
