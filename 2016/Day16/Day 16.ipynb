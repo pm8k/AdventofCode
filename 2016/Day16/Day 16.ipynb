{
 "cells": [
  {
   "cell_type": "code",
   "execution_count": 50,
   "metadata": {
    "collapsed": true
   },
   "outputs": [],
   "source": [
    "def create_dc(string):\n",
    "    reversestring=string[::-1]\n",
    "    reversestring=''.join(['1' if x == '0' else '0' for x in reversestring])\n",
    "    newstring=string+'0'+reversestring\n",
    "    return newstring\n",
    "\n",
    "def get_checksum(string):\n",
    "    #generate pairs\n",
    "    pairs=[string[i:i+2] for i in range(0, len(string), 2)]\n",
    "    pairsums=[str((pair.count('1')+1)%2 ) for pair in pairs]\n",
    "    joinstr=''.join(pairsums)\n",
    "    return joinstr"
   ]
  },
  {
   "cell_type": "code",
   "execution_count": 53,
   "metadata": {
    "collapsed": true
   },
   "outputs": [],
   "source": [
    "disk_size=272\n",
    "puzinput='00111101111101000'"
   ]
  },
  {
   "cell_type": "code",
   "execution_count": 54,
   "metadata": {
    "collapsed": false
   },
   "outputs": [
    {
     "name": "stdout",
     "output_type": "stream",
     "text": [
      "1110110111001101001110110101001101001110110111001101011110110101001101001110110111001101001110110101001101011110110111001101011110110101\n",
      "test\n",
      "test\n",
      "test\n"
     ]
    }
   ],
   "source": [
    "current_str=puzinput\n",
    "while len(current_str)<disk_size:\n",
    "    current_str=create_dc(current_str)\n",
    "\n",
    "datastr=current_str[:disk_size]\n",
    "checksum=get_checksum(datastr)\n",
    "print checksum\n",
    "while len(checksum)%2 == 0:\n",
    "    checksum=get_checksum(checksum)"
   ]
  },
  {
   "cell_type": "code",
   "execution_count": 55,
   "metadata": {
    "collapsed": false
   },
   "outputs": [
    {
     "data": {
      "text/plain": [
       "'10011010010010010'"
      ]
     },
     "execution_count": 55,
     "metadata": {},
     "output_type": "execute_result"
    }
   ],
   "source": [
    "checksum"
   ]
  },
  {
   "cell_type": "code",
   "execution_count": 56,
   "metadata": {
    "collapsed": true
   },
   "outputs": [],
   "source": [
    "#part 2"
   ]
  },
  {
   "cell_type": "code",
   "execution_count": 62,
   "metadata": {
    "collapsed": true
   },
   "outputs": [],
   "source": [
    "disk_size=35651584\n",
    "puzinput='00111101111101000'"
   ]
  },
  {
   "cell_type": "code",
   "execution_count": 63,
   "metadata": {
    "collapsed": false
   },
   "outputs": [
    {
     "name": "stdout",
     "output_type": "stream",
     "text": [
      "10101011110100011\n"
     ]
    }
   ],
   "source": [
    "current_str=puzinput\n",
    "while len(current_str)<disk_size:\n",
    "    current_str=create_dc(current_str)\n",
    "\n",
    "datastr=current_str[:disk_size]\n",
    "checksum=get_checksum(datastr)\n",
    "while len(checksum)%2 == 0:\n",
    "    checksum=get_checksum(checksum)\n",
    "print checksum"
   ]
  },
  {
   "cell_type": "code",
   "execution_count": null,
   "metadata": {
    "collapsed": false
   },
   "outputs": [],
   "source": []
  },
  {
   "cell_type": "code",
   "execution_count": null,
   "metadata": {
    "collapsed": true
   },
   "outputs": [],
   "source": []
  },
  {
   "cell_type": "code",
   "execution_count": null,
   "metadata": {
    "collapsed": true
   },
   "outputs": [],
   "source": []
  }
 ],
 "metadata": {
  "kernelspec": {
   "display_name": "Python 2",
   "language": "python",
   "name": "python2"
  },
  "language_info": {
   "codemirror_mode": {
    "name": "ipython",
    "version": 2
   },
   "file_extension": ".py",
   "mimetype": "text/x-python",
   "name": "python",
   "nbconvert_exporter": "python",
   "pygments_lexer": "ipython2",
   "version": "2.7.11"
  }
 },
 "nbformat": 4,
 "nbformat_minor": 0
}
