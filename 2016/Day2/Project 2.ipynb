{
 "cells": [
  {
   "cell_type": "code",
   "execution_count": 1,
   "metadata": {
    "collapsed": true
   },
   "outputs": [],
   "source": [
    "import pandas as pd\n"
   ]
  },
  {
   "cell_type": "code",
   "execution_count": 6,
   "metadata": {
    "collapsed": true
   },
   "outputs": [],
   "source": [
    "data = pd.read_csv('project2.txt',header=None)[0]"
   ]
  },
  {
   "cell_type": "code",
   "execution_count": 7,
   "metadata": {
    "collapsed": false
   },
   "outputs": [
    {
     "data": {
      "text/plain": [
       "0    LRRLLLRDRURUDLRDDURULRULLDLRRLRLDULUDDDDLLRRLD...\n",
       "1    RUURUDRDUULRDDLRLLLULLDDUDRDURDLRUULLLLUDUDRRU...\n",
       "2    URRRLRLLDDDRRLDLDLUDRDRDLDUDDDLDRRDRLDULRRDRRD...\n",
       "3    UULDRLUULURDRLDULURLUDULDRRDULULUDLLDURRRURDRL...\n",
       "4    LLRUDRUUDUDLRDRDRRLRDRRUDRDURURRLDDDDLRDURDLRR...\n",
       "Name: 0, dtype: object"
      ]
     },
     "execution_count": 7,
     "metadata": {},
     "output_type": "execute_result"
    }
   ],
   "source": [
    "data"
   ]
  },
  {
   "cell_type": "code",
   "execution_count": 8,
   "metadata": {
    "collapsed": true
   },
   "outputs": [],
   "source": [
    "code=[]\n",
    "startnum=5\n",
    "pad_dict={1:{'D':4,'R':2},\n",
    "          2:{'D':5,'R':3,'L':1},\n",
    "          3:{'D':6,'L':2},\n",
    "          4:{'D':7,'R':5,'U':1},\n",
    "          5:{'D':8,'R':6,'U':3,'L':4},\n",
    "          6:{'D':9,'L':5,'U':3},\n",
    "          7:{'U':4,'R':8},\n",
    "          8:{'U':5,'R':9,'L':7},\n",
    "          9:{'U':4,'L':8},\n",
    "          }\n",
    "\n",
    "for dat in data.values:\n",
    "    num=startnum\n",
    "    for char in dat:\n",
    "        if char in pad_dict[num].keys():\n",
    "            num = pad_dict[num][char]\n",
    "            \n",
    "    code.append(num)\n"
   ]
  },
  {
   "cell_type": "code",
   "execution_count": 9,
   "metadata": {
    "collapsed": false
   },
   "outputs": [
    {
     "data": {
      "text/plain": [
       "[7, 3, 5, 9, 7]"
      ]
     },
     "execution_count": 9,
     "metadata": {},
     "output_type": "execute_result"
    }
   ],
   "source": [
    "code"
   ]
  },
  {
   "cell_type": "code",
   "execution_count": 12,
   "metadata": {
    "collapsed": false
   },
   "outputs": [],
   "source": [
    "code=[]\n",
    "startnum='5'\n",
    "pad_dict={'1':{'D':'3'},\n",
    "          '2':{'D':'6','R':'3'},\n",
    "          '3':{'D':'7','L':'2','R':'4','U':'1'},\n",
    "          '4':{'D':'8','L':'3'},\n",
    "          '5':{'R':'6'},\n",
    "          '6':{'D':'A','L':'5','U':'2','R':'7'},\n",
    "          '7':{'U':'3','R':'8','L':'6','D':'B'},\n",
    "          '8':{'U':'4','R':'9','L':'7','D':'C'},\n",
    "          '9':{'L':'8'},\n",
    "          'A':{'U':'6','R':'B'},\n",
    "          'B':{'U':'7','R':'C','L':'A','D':'D'},\n",
    "          'C':{'U':'8','L':'B'},\n",
    "          'D':{'U':'B'},\n",
    "          }\n",
    "\n",
    "for dat in data.values:\n",
    "    num=startnum\n",
    "    for char in dat:\n",
    "        if char in pad_dict[num].keys():\n",
    "            num = pad_dict[num][char]\n",
    "            \n",
    "    code.append(num)"
   ]
  },
  {
   "cell_type": "code",
   "execution_count": 13,
   "metadata": {
    "collapsed": false
   },
   "outputs": [
    {
     "data": {
      "text/plain": [
       "['A', '4', '7', 'D', 'A']"
      ]
     },
     "execution_count": 13,
     "metadata": {},
     "output_type": "execute_result"
    }
   ],
   "source": [
    "code"
   ]
  },
  {
   "cell_type": "markdown",
   "metadata": {},
   "source": [
    "## Method 2, without Dict"
   ]
  },
  {
   "cell_type": "code",
   "execution_count": 21,
   "metadata": {
    "collapsed": false
   },
   "outputs": [],
   "source": [
    "code=[]\n",
    "startnum=5\n",
    "startloc=(1,1)\n",
    "directions={'U':(0,-1),\n",
    "           'D':(0,1),\n",
    "           'L':(-1,0),\n",
    "           'R':(1,0)}\n",
    "pad=[[1,2,3],\n",
    "     [4,5,6],\n",
    "     [7,8,9]]\n",
    "for dat in data.values:\n",
    "    loc=startloc\n",
    "    for char in dat:\n",
    "        loc = (max(0,min(loc[0]+directions[char][0],2)),\n",
    "              max(0,min(loc[1]+directions[char][1],2)))\n",
    "\n",
    "    code.append(loc)"
   ]
  },
  {
   "cell_type": "code",
   "execution_count": 22,
   "metadata": {
    "collapsed": false
   },
   "outputs": [
    {
     "data": {
      "text/plain": [
       "[(0, 2), (2, 0), (1, 1), (2, 2), (0, 2)]"
      ]
     },
     "execution_count": 22,
     "metadata": {},
     "output_type": "execute_result"
    }
   ],
   "source": [
    "code"
   ]
  },
  {
   "cell_type": "code",
   "execution_count": null,
   "metadata": {
    "collapsed": true
   },
   "outputs": [],
   "source": [
    "code=[]\n",
    "startnum=5\n",
    "startloc=(1,1)\n",
    "directions={'U':(0,-1),\n",
    "           'D':(0,1),\n",
    "           'L':(-1,0),\n",
    "           'R':(1,0)}\n",
    "pad=[[1,2,3],\n",
    "     [4,5,6],\n",
    "     [7,8,9]]\n",
    "for dat in data.values:\n",
    "    loc=startloc\n",
    "    for char in dat:\n",
    "        loc = (max(0,min(loc[0]+directions[char][0],2)),\n",
    "              max(0,min(loc[1]+directions[char][1],2)))\n",
    "\n",
    "    code.append(loc)"
   ]
  }
 ],
 "metadata": {
  "kernelspec": {
   "display_name": "Python 2",
   "language": "python",
   "name": "python2"
  },
  "language_info": {
   "codemirror_mode": {
    "name": "ipython",
    "version": 2
   },
   "file_extension": ".py",
   "mimetype": "text/x-python",
   "name": "python",
   "nbconvert_exporter": "python",
   "pygments_lexer": "ipython2",
   "version": "2.7.11"
  }
 },
 "nbformat": 4,
 "nbformat_minor": 0
}
