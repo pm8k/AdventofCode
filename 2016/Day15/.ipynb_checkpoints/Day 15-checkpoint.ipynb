{
 "cells": [
  {
   "cell_type": "code",
   "execution_count": 22,
   "metadata": {
    "collapsed": true
   },
   "outputs": [],
   "source": [
    "class Disc():\n",
    "    def __init__(self,num,start):\n",
    "        self.num_pos=num\n",
    "        self.pos=start\n",
    "    def rotate_disc(self,i):\n",
    "        self.pos=(self.pos+i)%self.num_pos"
   ]
  },
  {
   "cell_type": "code",
   "execution_count": 23,
   "metadata": {
    "collapsed": false
   },
   "outputs": [],
   "source": [
    "disc_pos={\n",
    "    1:Disc(17,15),\n",
    "    2:Disc(3,2),\n",
    "    3:Disc(19,4),\n",
    "    4:Disc(13,2),\n",
    "    5:Disc(7,2),\n",
    "    6:Disc(5,0),\n",
    "    7:Disc(11,0)\n",
    "}"
   ]
  },
  {
   "cell_type": "code",
   "execution_count": 24,
   "metadata": {
    "collapsed": true
   },
   "outputs": [],
   "source": [
    "# Let's rotate discs equal to their position -1, so it will reflect the frame of the ball falling"
   ]
  },
  {
   "cell_type": "code",
   "execution_count": 25,
   "metadata": {
    "collapsed": false
   },
   "outputs": [],
   "source": [
    "for key,val in disc_pos.iteritems():\n",
    "    val.rotate_disc(key)"
   ]
  },
  {
   "cell_type": "code",
   "execution_count": 26,
   "metadata": {
    "collapsed": false
   },
   "outputs": [
    {
     "name": "stdout",
     "output_type": "stream",
     "text": [
      "1 16\n",
      "2 1\n",
      "3 7\n",
      "4 6\n",
      "5 0\n",
      "6 1\n",
      "7 7\n"
     ]
    }
   ],
   "source": [
    "for key,val in disc_pos.items():\n",
    "    print key,val.pos"
   ]
  },
  {
   "cell_type": "code",
   "execution_count": 27,
   "metadata": {
    "collapsed": true
   },
   "outputs": [],
   "source": [
    "#lets rotate the largest disc to 0, as it is the key denominator for everything else"
   ]
  },
  {
   "cell_type": "code",
   "execution_count": 28,
   "metadata": {
    "collapsed": true
   },
   "outputs": [],
   "source": [
    "i=0\n",
    "num_to_rotate=disc_pos[3].num_pos - disc_pos[3].pos\n",
    "i+=num_to_rotate\n",
    "for key, val in disc_pos.iteritems():\n",
    "    val.rotate_disc(num_to_rotate)"
   ]
  },
  {
   "cell_type": "code",
   "execution_count": 29,
   "metadata": {
    "collapsed": false
   },
   "outputs": [
    {
     "name": "stdout",
     "output_type": "stream",
     "text": [
      "1 11\n",
      "2 1\n",
      "3 0\n",
      "4 5\n",
      "5 5\n",
      "6 3\n",
      "7 8\n"
     ]
    }
   ],
   "source": [
    "for key,val in disc_pos.items():\n",
    "    print key,val.pos"
   ]
  },
  {
   "cell_type": "code",
   "execution_count": 30,
   "metadata": {
    "collapsed": false
   },
   "outputs": [],
   "source": [
    "\n",
    "end=False\n",
    "num_to_rotate=disc_pos[3].num_pos\n",
    "\n",
    "while not end:\n",
    "    i+=num_to_rotate\n",
    "    for key,val in disc_pos.iteritems():\n",
    "        val.rotate_disc(num_to_rotate)\n",
    "        \n",
    "    # check if all discs at zero\n",
    "    for key,val in disc_pos.iteritems():\n",
    "        if val.pos != 0:\n",
    "            break\n",
    "    else:\n",
    "        end=True\n",
    "    \n",
    "    \n",
    "    \n",
    "    \n",
    "    "
   ]
  },
  {
   "cell_type": "code",
   "execution_count": 34,
   "metadata": {
    "collapsed": false
   },
   "outputs": [
    {
     "data": {
      "text/plain": [
       "35.25415509259259"
      ]
     },
     "execution_count": 34,
     "metadata": {},
     "output_type": "execute_result"
    }
   ],
   "source": [
    "i/3600.0/24.0"
   ]
  },
  {
   "cell_type": "code",
   "execution_count": null,
   "metadata": {
    "collapsed": true
   },
   "outputs": [],
   "source": []
  }
 ],
 "metadata": {
  "kernelspec": {
   "display_name": "Python 2",
   "language": "python",
   "name": "python2"
  },
  "language_info": {
   "codemirror_mode": {
    "name": "ipython",
    "version": 2
   },
   "file_extension": ".py",
   "mimetype": "text/x-python",
   "name": "python",
   "nbconvert_exporter": "python",
   "pygments_lexer": "ipython2",
   "version": "2.7.11"
  }
 },
 "nbformat": 4,
 "nbformat_minor": 0
}
