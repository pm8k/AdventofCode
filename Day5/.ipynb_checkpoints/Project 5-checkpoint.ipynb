{
 "cells": [
  {
   "cell_type": "code",
   "execution_count": 5,
   "metadata": {
    "collapsed": false
   },
   "outputs": [],
   "source": [
    "import hashlib"
   ]
  },
  {
   "cell_type": "code",
   "execution_count": 6,
   "metadata": {
    "collapsed": true
   },
   "outputs": [],
   "source": [
    "m=hashlib.md5()"
   ]
  },
  {
   "cell_type": "code",
   "execution_count": 7,
   "metadata": {
    "collapsed": true
   },
   "outputs": [],
   "source": [
    "m.update('abc')"
   ]
  },
  {
   "cell_type": "code",
   "execution_count": 9,
   "metadata": {
    "collapsed": false
   },
   "outputs": [
    {
     "data": {
      "text/plain": [
       "'900150983cd24fb0d6963f7d28e17f72'"
      ]
     },
     "execution_count": 9,
     "metadata": {},
     "output_type": "execute_result"
    }
   ],
   "source": [
    "m.hexdigest()"
   ]
  },
  {
   "cell_type": "code",
   "execution_count": 17,
   "metadata": {
    "collapsed": false
   },
   "outputs": [
    {
     "name": "stdout",
     "output_type": "stream",
     "text": [
      "0000027b9705c7e6fa3d4816c490bbfd 2231254\n",
      "00000468c8625d85571d250737c47b5a 2440385\n",
      "0000013e3293b49e4c78a5b43b21023b 2640705\n",
      "0000040bbe4509b48041007dec6123bd 3115031\n",
      "00000b11810477f9e49840991fb2151e 5045682\n",
      "00000cc461c8945671046cf632be4473 8562236\n",
      "000007c1da6865df78b2c0addf28913d 9103137\n",
      "00000700ce8beb0a8ffc83fa9986d577 9433034\n",
      "2414bc77\n"
     ]
    }
   ],
   "source": [
    "password=''\n",
    "i=0\n",
    "while len(password)<8:\n",
    "    newstr='wtnhxymk'+str(i)\n",
    "    m=hashlib.md5()\n",
    "    m.update(nepwstr)\n",
    "    h=m.hexdigest()\n",
    "    if h[:5]=='00000':\n",
    "        print h, i\n",
    "        password+=h[5]\n",
    "    \n",
    "    i+=1\n",
    "print password"
   ]
  },
  {
   "cell_type": "code",
   "execution_count": 15,
   "metadata": {
    "collapsed": false
   },
   "outputs": [
    {
     "data": {
      "text/plain": [
       "'1'"
      ]
     },
     "execution_count": 15,
     "metadata": {},
     "output_type": "execute_result"
    }
   ],
   "source": [
    "h[5]"
   ]
  },
  {
   "cell_type": "code",
   "execution_count": 29,
   "metadata": {
    "collapsed": false
   },
   "outputs": [
    {
     "name": "stdout",
     "output_type": "stream",
     "text": [
      "0000027b9705c7e6fa3d4816c490bbfd 2231254\n",
      "00000468c8625d85571d250737c47b5a 2440385\n",
      "0000013e3293b49e4c78a5b43b21023b 2640705\n",
      "000007c1da6865df78b2c0addf28913d 9103137\n",
      "0000050301b17d598b52e2a343b80c95 13753308\n",
      "000006fe7545b487de2d003f3d4e1114 13976178\n",
      "000003e432ea631581aefcce573d56dd 19808390\n",
      "00000048d155e2c930602533209b0154 27712456\n",
      "437e60fc\n"
     ]
    }
   ],
   "source": [
    "password={}\n",
    "i=0\n",
    "while len(password)<8:\n",
    "    newstr='wtnhxymk'+str(i)\n",
    "    m=hashlib.md5()\n",
    "    m.update(newstr)\n",
    "    h=m.hexdigest()\n",
    "    if h[:5]=='00000':\n",
    "        if not h[5].isalpha() and int(h[5])<8 and int(h[5]) not in password.keys():\n",
    "            password[int(h[5])]=h[6]\n",
    "            print h, i\n",
    "    i+=1\n",
    "print ''.join([password[x] for x in range(8)])"
   ]
  },
  {
   "cell_type": "code",
   "execution_count": 28,
   "metadata": {
    "collapsed": false
   },
   "outputs": [
    {
     "data": {
      "text/plain": [
       "'05ace8e3'"
      ]
     },
     "execution_count": 28,
     "metadata": {},
     "output_type": "execute_result"
    }
   ],
   "source": [
    "''.join([password[x] for x in range(8)])"
   ]
  },
  {
   "cell_type": "code",
   "execution_count": null,
   "metadata": {
    "collapsed": true
   },
   "outputs": [],
   "source": []
  }
 ],
 "metadata": {
  "kernelspec": {
   "display_name": "Python 2",
   "language": "python",
   "name": "python2"
  },
  "language_info": {
   "codemirror_mode": {
    "name": "ipython",
    "version": 2
   },
   "file_extension": ".py",
   "mimetype": "text/x-python",
   "name": "python",
   "nbconvert_exporter": "python",
   "pygments_lexer": "ipython2",
   "version": "2.7.11"
  }
 },
 "nbformat": 4,
 "nbformat_minor": 0
}
