{
 "cells": [
  {
   "cell_type": "code",
   "execution_count": 3,
   "metadata": {
    "collapsed": true
   },
   "outputs": [],
   "source": [
    "import hashlib"
   ]
  },
  {
   "cell_type": "code",
   "execution_count": 1,
   "metadata": {
    "collapsed": true
   },
   "outputs": [],
   "source": [
    "#part1"
   ]
  },
  {
   "cell_type": "code",
   "execution_count": 34,
   "metadata": {
    "collapsed": true
   },
   "outputs": [],
   "source": [
    "puzzleinput='abc'"
   ]
  },
  {
   "cell_type": "code",
   "execution_count": null,
   "metadata": {
    "collapsed": true
   },
   "outputs": [],
   "source": [
    "%load_ext autotime"
   ]
  },
  {
   "cell_type": "code",
   "execution_count": 94,
   "metadata": {
    "collapsed": false
   },
   "outputs": [],
   "source": [
    "def generate_hash(index):\n",
    "    tohash=puzzleinput+str(index)\n",
    "    m=hashlib.md5()\n",
    "    m.update(puzzleinput)\n",
    "    h=m.hexdigest()\n",
    "    keyhashdict[index]=h"
   ]
  },
  {
   "cell_type": "code",
   "execution_count": 95,
   "metadata": {
    "collapsed": true
   },
   "outputs": [],
   "source": [
    "def find_triples(string):\n",
    "    stringlist=[]\n",
    "    for i,char in enumerate(string):\n",
    "        if i+2>=len(string):\n",
    "            continue\n",
    "        \n",
    "        if string[i+1]==char and string[1+2]==char and char not in stringlist:\n",
    "            stringlist.append(char)\n",
    "    return stringlist"
   ]
  },
  {
   "cell_type": "code",
   "execution_count": 96,
   "metadata": {
    "collapsed": true
   },
   "outputs": [],
   "source": [
    "def find_quint(string,char):\n",
    "    searchstr=char*5\n",
    "    index=string.find(searchstr)\n",
    "    if index==-1:\n",
    "        return False\n",
    "    else:\n",
    "        return True"
   ]
  },
  {
   "cell_type": "code",
   "execution_count": 98,
   "metadata": {
    "collapsed": true
   },
   "outputs": [],
   "source": [
    "def search_all(triples,i):\n",
    "    for j in range(i+1,i+1001):\n",
    "        # generate hash if no\n",
    "        if j not in keyhashdict.keys():\n",
    "            generate_hash(j)\n",
    "        testhash=keyhashdict[j]\n",
    "        \n",
    "        for triple in triples:\n",
    "            out=find_quint(testhash,triple)\n",
    "            if out==True:\n",
    "                return True\n",
    "    return False"
   ]
  },
  {
   "cell_type": "code",
   "execution_count": null,
   "metadata": {
    "collapsed": true
   },
   "outputs": [],
   "source": []
  },
  {
   "cell_type": "code",
   "execution_count": 99,
   "metadata": {
    "collapsed": true
   },
   "outputs": [],
   "source": [
    "keyhashdict={}"
   ]
  },
  {
   "cell_type": "code",
   "execution_count": 100,
   "metadata": {
    "collapsed": false
   },
   "outputs": [
    {
     "name": "stdout",
     "output_type": "stream",
     "text": [
      "0\n"
     ]
    },
    {
     "ename": "KeyboardInterrupt",
     "evalue": "",
     "output_type": "error",
     "traceback": [
      "\u001b[0;31m---------------------------------------------------------------------------\u001b[0m",
      "\u001b[0;31mKeyboardInterrupt\u001b[0m                         Traceback (most recent call last)",
      "\u001b[0;32m<ipython-input-100-9c68eed6c237>\u001b[0m in \u001b[0;36m<module>\u001b[0;34m()\u001b[0m\n\u001b[1;32m     18\u001b[0m \u001b[0;34m\u001b[0m\u001b[0m\n\u001b[1;32m     19\u001b[0m     \u001b[0;31m#search triples\u001b[0m\u001b[0;34m\u001b[0m\u001b[0;34m\u001b[0m\u001b[0m\n\u001b[0;32m---> 20\u001b[0;31m     \u001b[0mvalid_key\u001b[0m\u001b[0;34m=\u001b[0m\u001b[0msearch_all\u001b[0m\u001b[0;34m(\u001b[0m\u001b[0mtriples\u001b[0m\u001b[0;34m,\u001b[0m\u001b[0mi\u001b[0m\u001b[0;34m)\u001b[0m\u001b[0;34m\u001b[0m\u001b[0m\n\u001b[0m\u001b[1;32m     21\u001b[0m     \u001b[0;32mif\u001b[0m \u001b[0mvalid_key\u001b[0m\u001b[0;34m==\u001b[0m\u001b[0mTrue\u001b[0m\u001b[0;34m:\u001b[0m\u001b[0;34m\u001b[0m\u001b[0m\n\u001b[1;32m     22\u001b[0m         \u001b[0mvalid_keys\u001b[0m\u001b[0;34m.\u001b[0m\u001b[0mappend\u001b[0m\u001b[0;34m(\u001b[0m\u001b[0mi\u001b[0m\u001b[0;34m)\u001b[0m\u001b[0;34m\u001b[0m\u001b[0m\n",
      "\u001b[0;32m<ipython-input-98-0f07461d109b>\u001b[0m in \u001b[0;36msearch_all\u001b[0;34m(triples, i)\u001b[0m\n\u001b[1;32m      2\u001b[0m     \u001b[0;32mfor\u001b[0m \u001b[0mj\u001b[0m \u001b[0;32min\u001b[0m \u001b[0mrange\u001b[0m\u001b[0;34m(\u001b[0m\u001b[0mi\u001b[0m\u001b[0;34m+\u001b[0m\u001b[0;36m1\u001b[0m\u001b[0;34m,\u001b[0m\u001b[0mi\u001b[0m\u001b[0;34m+\u001b[0m\u001b[0;36m1001\u001b[0m\u001b[0;34m)\u001b[0m\u001b[0;34m:\u001b[0m\u001b[0;34m\u001b[0m\u001b[0m\n\u001b[1;32m      3\u001b[0m         \u001b[0;31m# generate hash if no\u001b[0m\u001b[0;34m\u001b[0m\u001b[0;34m\u001b[0m\u001b[0m\n\u001b[0;32m----> 4\u001b[0;31m         \u001b[0;32mif\u001b[0m \u001b[0mj\u001b[0m \u001b[0;32mnot\u001b[0m \u001b[0;32min\u001b[0m \u001b[0mkeyhashdict\u001b[0m\u001b[0;34m.\u001b[0m\u001b[0mkeys\u001b[0m\u001b[0;34m(\u001b[0m\u001b[0;34m)\u001b[0m\u001b[0;34m:\u001b[0m\u001b[0;34m\u001b[0m\u001b[0m\n\u001b[0m\u001b[1;32m      5\u001b[0m             \u001b[0mgenerate_hash\u001b[0m\u001b[0;34m(\u001b[0m\u001b[0mj\u001b[0m\u001b[0;34m)\u001b[0m\u001b[0;34m\u001b[0m\u001b[0m\n\u001b[1;32m      6\u001b[0m         \u001b[0mtesthash\u001b[0m\u001b[0;34m=\u001b[0m\u001b[0mkeyhashdict\u001b[0m\u001b[0;34m[\u001b[0m\u001b[0mj\u001b[0m\u001b[0;34m]\u001b[0m\u001b[0;34m\u001b[0m\u001b[0m\n",
      "\u001b[0;31mKeyboardInterrupt\u001b[0m: "
     ]
    }
   ],
   "source": [
    "end=False\n",
    "i=-1\n",
    "valid_keys=[]\n",
    "while not end:\n",
    "    if i%1000==0:\n",
    "        print i\n",
    "    i+=1\n",
    "    \n",
    "    if i not in keyhashdict.keys():\n",
    "        generate_hash(i)\n",
    "        \n",
    "    \n",
    "    #get string\n",
    "    tosearchtrip=keyhashdict[i]\n",
    "    \n",
    "    #get triples\n",
    "    triples=find_triples(tosearchtrip)\n",
    "    \n",
    "    #search triples\n",
    "    valid_key=search_all(triples,i)\n",
    "    if valid_key==True:\n",
    "        valid_keys.append(i)\n",
    "        print i\n",
    "        \n",
    "    if len(valid_keys)==64:\n",
    "        end=True\n",
    "        \n",
    "    "
   ]
  },
  {
   "cell_type": "code",
   "execution_count": null,
   "metadata": {
    "collapsed": false
   },
   "outputs": [],
   "source": []
  },
  {
   "cell_type": "code",
   "execution_count": 47,
   "metadata": {
    "collapsed": false
   },
   "outputs": [],
   "source": [
    "# Take 2"
   ]
  },
  {
   "cell_type": "code",
   "execution_count": 111,
   "metadata": {
    "collapsed": false
   },
   "outputs": [
    {
     "data": {
      "text/plain": [
       "'abcdefghijklmnopqrstuvwxyz'"
      ]
     },
     "execution_count": 111,
     "metadata": {},
     "output_type": "execute_result"
    }
   ],
   "source": [
    "import string\n",
    "searchspace=string.ascii_lowercase+string.digits\n",
    "'abcdefghijklmnopqrstuvwxyz'"
   ]
  },
  {
   "cell_type": "code",
   "execution_count": 112,
   "metadata": {
    "collapsed": false
   },
   "outputs": [
    {
     "data": {
      "text/plain": [
       "'abcdefghijklmnopqrstuvwxyz0123456789'"
      ]
     },
     "execution_count": 112,
     "metadata": {},
     "output_type": "execute_result"
    }
   ],
   "source": [
    "searchspace"
   ]
  },
  {
   "cell_type": "code",
   "execution_count": 113,
   "metadata": {
    "collapsed": true
   },
   "outputs": [],
   "source": [
    "tripsearch=[char*3 for char in searchspace]\n",
    "quintsearch=[char*5 for char in searchspace]"
   ]
  },
  {
   "cell_type": "code",
   "execution_count": 114,
   "metadata": {
    "collapsed": true
   },
   "outputs": [],
   "source": [
    "class HashObj():\n",
    "    def __init__(self,hashstr,trips,quints):\n",
    "        self.hashstr=hashstr\n",
    "        self.trips=trips\n",
    "        self.quints=quints"
   ]
  },
  {
   "cell_type": "code",
   "execution_count": 165,
   "metadata": {
    "collapsed": false
   },
   "outputs": [],
   "source": [
    "def find_triples(string,tripsearch):\n",
    "    triplist=[]\n",
    "    minindex=None\n",
    "    for item in tripsearch:\n",
    "        index=string.find(item)\n",
    "        if index!=-1:\n",
    "            if len(triplist)==0:\n",
    "                triplist=[item[0]]\n",
    "                minindex=index\n",
    "            else:\n",
    "                if index < minindex:\n",
    "                    triplist=[item[0]]\n",
    "                    minindex=index \n",
    "    return triplist"
   ]
  },
  {
   "cell_type": "code",
   "execution_count": 166,
   "metadata": {
    "collapsed": true
   },
   "outputs": [],
   "source": [
    "def find_quints(string,quintsearch):\n",
    "    quintlist=[]\n",
    "    for item in quintsearch:\n",
    "        index=string.find(item)\n",
    "        if index!=-1:\n",
    "            quintlist.append(item[0])\n",
    "    return quintlist"
   ]
  },
  {
   "cell_type": "code",
   "execution_count": 167,
   "metadata": {
    "collapsed": false
   },
   "outputs": [],
   "source": [
    "def generate_hash(index):\n",
    "    tohash=puzzleinput+str(index)\n",
    "    m=hashlib.md5()\n",
    "    m.update(tohash)\n",
    "    h=m.hexdigest()\n",
    "    triplist=find_triples(h,tripsearch)\n",
    "    quintlist=find_quints(h,quintsearch)\n",
    "    keyhashdict[index]=HashObj(h,triplist,quintlist)"
   ]
  },
  {
   "cell_type": "code",
   "execution_count": 168,
   "metadata": {
    "collapsed": true
   },
   "outputs": [],
   "source": [
    "def search_hashes(triples,i):\n",
    "    for triple in triples:\n",
    "        for j in range(i+1,i+1001):\n",
    "            if j not in keyhashdict:\n",
    "                generate_hash(j)\n",
    "            temphash=keyhashdict[j]\n",
    "            if triple in temphash.quints:\n",
    "                print i,triple,j, temphash.quints,j-i\n",
    "                return True\n",
    "    return False"
   ]
  },
  {
   "cell_type": "code",
   "execution_count": 171,
   "metadata": {
    "collapsed": false,
    "scrolled": false
   },
   "outputs": [
    {
     "name": "stdout",
     "output_type": "stream",
     "text": [
      "873 8 1596 ['8'] 723\n",
      "1442 8 1596 ['8'] 154\n",
      "1494 8 1596 ['8'] 102\n",
      "2025 f 2389 ['f'] 364\n",
      "2065 d 3002 ['d'] 937\n",
      "2275 d 3002 ['d'] 727\n",
      "2408 d 3002 ['d'] 594\n",
      "2489 d 3002 ['d'] 513\n",
      "2966 b 3619 ['b'] 653\n",
      "3126 b 3619 ['b'] 493\n",
      "3409 b 3619 ['b'] 210\n",
      "12362 6 13064 ['6'] 702\n",
      "12513 a 13474 ['a'] 961\n",
      "12529 6 13064 ['6'] 535\n",
      "12620 6 13064 ['6'] 444\n",
      "12625 7 13539 ['7'] 914\n",
      "12638 a 13474 ['a'] 836\n",
      "12662 7 13539 ['7'] 877\n",
      "12679 a 13474 ['a'] 795\n",
      "12742 a 13474 ['a'] 732\n",
      "12793 a 13474 ['a'] 681\n",
      "12888 a 13474 ['a'] 586\n",
      "12894 6 13064 ['6'] 170\n",
      "12947 6 13064 ['6'] 117\n",
      "13012 6 13064 ['6'] 52\n",
      "13032 7 13539 ['7'] 507\n",
      "13136 7 13539 ['7'] 403\n",
      "13138 7 13539 ['7'] 401\n",
      "13145 7 13539 ['7'] 394\n",
      "13155 7 13539 ['7'] 384\n",
      "13222 a 13474 ['a'] 252\n",
      "13238 a 13474 ['a'] 236\n",
      "13370 a 13474 ['a'] 104\n",
      "13519 7 13539 ['7'] 20\n",
      "16945 8 17513 ['8'] 568\n",
      "17072 8 17513 ['8'] 441\n",
      "17112 8 17513 ['8'] 401\n",
      "17316 8 17513 ['8'] 197\n",
      "17721 d 18096 ['d'] 375\n",
      "17725 d 18096 ['d'] 371\n",
      "17793 d 18096 ['d'] 303\n",
      "17813 d 18096 ['d'] 283\n",
      "17833 d 18096 ['d'] 263\n",
      "21631 3 22561 ['3'] 930\n",
      "21641 3 22561 ['3'] 920\n",
      "21805 3 22561 ['3'] 756\n",
      "21963 3 22561 ['3'] 598\n",
      "22235 3 22561 ['3'] 326\n",
      "22442 3 22561 ['3'] 119\n",
      "22546 3 22561 ['3'] 15\n",
      "24182 2 25125 ['2'] 943\n",
      "24367 2 25125 ['2'] 758\n",
      "24474 2 25125 ['2'] 651\n",
      "24672 2 25125 ['2'] 453\n",
      "24725 2 25125 ['2'] 400\n",
      "24832 d 25531 ['d'] 699\n",
      "24844 d 25531 ['d'] 687\n",
      "24942 2 25125 ['2'] 183\n",
      "25188 d 25531 ['d'] 343\n",
      "25195 d 25531 ['d'] 336\n",
      "25263 d 25531 ['d'] 268\n",
      "25284 d 25531 ['d'] 247\n",
      "25327 d 25531 ['d'] 204\n",
      "25427 d 25531 ['d'] 104\n"
     ]
    }
   ],
   "source": [
    "puzzleinput='yjdafjpo'\n",
    "keyhashdict={}\n",
    "end=False\n",
    "i=-1\n",
    "valid_keys=[]\n",
    "while not end:\n",
    "\n",
    "    i+=1\n",
    "    \n",
    "    if i not in keyhashdict.keys():\n",
    "        generate_hash(i)\n",
    "        \n",
    "    \n",
    "    #get string\n",
    "    hashobj=keyhashdict[i]\n",
    "    hashstr=hashobj.hashstr\n",
    "    #get triples\n",
    "    triples=hashobj.trips\n",
    "    \n",
    "    \n",
    "    \n",
    "    #search triples\n",
    "    valid_key=search_hashes(triples,i)\n",
    "    if valid_key==True:\n",
    "        valid_keys.append(i)\n",
    "        \n",
    "    if len(valid_keys)==64:\n",
    "        end=True\n",
    "        "
   ]
  },
  {
   "cell_type": "code",
   "execution_count": 157,
   "metadata": {
    "collapsed": true
   },
   "outputs": [],
   "source": [
    "import pandas as pd"
   ]
  },
  {
   "cell_type": "code",
   "execution_count": null,
   "metadata": {
    "collapsed": false
   },
   "outputs": [],
   "source": [
    "for key in valid_keys"
   ]
  },
  {
   "cell_type": "code",
   "execution_count": 156,
   "metadata": {
    "collapsed": false
   },
   "outputs": [
    {
     "data": {
      "text/plain": [
       "[39,\n",
       " 92,\n",
       " 110,\n",
       " 184,\n",
       " 291,\n",
       " 314,\n",
       " 343,\n",
       " 385,\n",
       " 459,\n",
       " 461,\n",
       " 489,\n",
       " 534,\n",
       " 771,\n",
       " 781,\n",
       " 887,\n",
       " 955,\n",
       " 1144,\n",
       " 5742,\n",
       " 5781,\n",
       " 5783,\n",
       " 6016,\n",
       " 6093,\n",
       " 6219,\n",
       " 7833,\n",
       " 7857,\n",
       " 7858,\n",
       " 7918,\n",
       " 7937,\n",
       " 8042,\n",
       " 8045,\n",
       " 8183,\n",
       " 8189,\n",
       " 8205,\n",
       " 8232,\n",
       " 8375,\n",
       " 8407,\n",
       " 8431,\n",
       " 8503,\n",
       " 8517,\n",
       " 8626,\n",
       " 8672,\n",
       " 8717,\n",
       " 8730,\n",
       " 8811,\n",
       " 9497,\n",
       " 9536,\n",
       " 13268,\n",
       " 13439,\n",
       " 13479,\n",
       " 13560,\n",
       " 13663,\n",
       " 15758,\n",
       " 15883,\n",
       " 16187,\n",
       " 16342,\n",
       " 16479,\n",
       " 20087,\n",
       " 20371,\n",
       " 20544,\n",
       " 20582,\n",
       " 20635,\n",
       " 20669,\n",
       " 21908,\n",
       " 21927]"
      ]
     },
     "execution_count": 156,
     "metadata": {},
     "output_type": "execute_result"
    }
   ],
   "source": [
    "valid_keys"
   ]
  },
  {
   "cell_type": "code",
   "execution_count": 152,
   "metadata": {
    "collapsed": false
   },
   "outputs": [
    {
     "data": {
      "text/plain": [
       "['e']"
      ]
     },
     "execution_count": 152,
     "metadata": {},
     "output_type": "execute_result"
    }
   ],
   "source": [
    "keyhashdict[816]"
   ]
  },
  {
   "cell_type": "code",
   "execution_count": 143,
   "metadata": {
    "collapsed": false
   },
   "outputs": [
    {
     "name": "stdout",
     "output_type": "stream",
     "text": [
      "[]\n",
      "[]\n",
      "[]\n",
      "[]\n",
      "[]\n",
      "[]\n",
      "[]\n",
      "[]\n",
      "[]\n",
      "[]\n",
      "[]\n",
      "[]\n",
      "[]\n",
      "[]\n",
      "[]\n",
      "[]\n",
      "[]\n",
      "[]\n",
      "[]\n",
      "[]\n",
      "[]\n",
      "[]\n",
      "[]\n",
      "[]\n",
      "[]\n",
      "[]\n",
      "[]\n",
      "[]\n",
      "[]\n",
      "[]\n",
      "[]\n",
      "[]\n",
      "[]\n",
      "[]\n",
      "[]\n",
      "[]\n",
      "[]\n",
      "[]\n",
      "[]\n",
      "[]\n",
      "[]\n",
      "[]\n",
      "[]\n",
      "[]\n",
      "[]\n",
      "[]\n",
      "[]\n",
      "[]\n",
      "[]\n",
      "[]\n",
      "[]\n",
      "[]\n",
      "[]\n",
      "[]\n",
      "[]\n",
      "[]\n",
      "[]\n",
      "[]\n",
      "[]\n",
      "[]\n",
      "[]\n",
      "[]\n",
      "[]\n",
      "[]\n"
     ]
    }
   ],
   "source": [
    "for i in range(64):\n",
    "    print keyhashdict[i].quints"
   ]
  },
  {
   "cell_type": "markdown",
   "metadata": {},
   "source": [
    "### Part 2"
   ]
  },
  {
   "cell_type": "code",
   "execution_count": 172,
   "metadata": {
    "collapsed": true
   },
   "outputs": [],
   "source": [
    "def generate_hash2(index):\n",
    "    tohash=puzzleinput+str(index)\n",
    "    for i in range(2017):    \n",
    "        m=hashlib.md5()\n",
    "        m.update(tohash)\n",
    "        tohash=m.hexdigest()\n",
    "    h=tohash\n",
    "    triplist=find_triples(h,tripsearch)\n",
    "    quintlist=find_quints(h,quintsearch)\n",
    "    keyhashdict[index]=HashObj(h,triplist,quintlist)\n",
    "    \n",
    "def search_hashes2(triples,i):\n",
    "    for triple in triples:\n",
    "        for j in range(i+1,i+1001):\n",
    "            if j not in keyhashdict:\n",
    "                generate_hash2(j)\n",
    "            temphash=keyhashdict[j]\n",
    "            if triple in temphash.quints:\n",
    "                print i,triple,j, temphash.quints,j-i\n",
    "                return True\n",
    "    return False"
   ]
  },
  {
   "cell_type": "code",
   "execution_count": 176,
   "metadata": {
    "collapsed": false
   },
   "outputs": [
    {
     "name": "stdout",
     "output_type": "stream",
     "text": [
      "804 c 1700 ['c'] 896\n",
      "1097 c 1700 ['c'] 603\n",
      "1230 c 1700 ['c'] 470\n",
      "1288 c 1700 ['c'] 412\n",
      "1394 c 1700 ['c'] 306\n",
      "4182 c 5166 ['c'] 984\n",
      "4624 c 5166 ['c'] 542\n",
      "4827 c 5166 ['c'] 339\n",
      "4915 c 5166 ['c'] 251\n",
      "5027 c 5166 ['c'] 139\n",
      "5035 c 5166 ['c'] 131\n",
      "10092 d 11019 ['d'] 927\n",
      "10617 d 11019 ['d'] 402\n",
      "10694 d 11019 ['d'] 325\n",
      "10772 d 11019 ['d'] 247\n",
      "10823 d 11019 ['d'] 196\n",
      "11210 8 12179 ['8'] 969\n",
      "11230 8 12179 ['8'] 949\n",
      "11277 8 12179 ['8'] 902\n",
      "11312 8 12179 ['8'] 867\n",
      "11318 8 12179 ['8'] 861\n",
      "11370 8 12179 ['8'] 809\n",
      "11452 8 12179 ['8'] 727\n",
      "11499 8 12179 ['8'] 680\n",
      "11513 8 12179 ['8'] 666\n",
      "11716 8 12179 ['8'] 463\n",
      "11728 8 12179 ['8'] 451\n",
      "11878 8 12179 ['8'] 301\n",
      "12034 8 12179 ['8'] 145\n",
      "12115 8 12179 ['8'] 64\n",
      "12126 8 12179 ['8'] 53\n",
      "15417 f 16344 ['f'] 927\n",
      "15768 f 16344 ['f'] 576\n",
      "15770 f 16344 ['f'] 574\n",
      "15848 f 16344 ['f'] 496\n",
      "15876 f 16344 ['f'] 468\n",
      "16068 4 16887 ['4'] 819\n",
      "16102 4 16887 ['4'] 785\n",
      "16217 f 16344 ['f'] 127\n",
      "16518 4 16887 ['4'] 369\n",
      "16874 4 16887 ['4'] 13\n",
      "20293 f 21282 ['f'] 989\n",
      "20440 f 21282 ['f'] 842\n",
      "20496 f 21282 ['f'] 786\n",
      "20497 f 21282 ['f'] 785\n",
      "20692 f 21282 ['f'] 590\n",
      "21045 f 21282 ['f'] 237\n",
      "21050 f 21282 ['f'] 232\n",
      "21106 f 21282 ['f'] 176\n",
      "21124 f 21282 ['f'] 158\n",
      "21134 f 21282 ['f'] 148\n",
      "21179 6 22135 ['6'] 956\n",
      "21441 6 22135 ['6'] 694\n",
      "21554 6 22135 ['6'] 581\n",
      "21590 3 22551 ['3'] 961\n",
      "21651 3 22551 ['3'] 900\n",
      "21701 6 22135 ['6'] 434\n",
      "21792 6 22135 ['6'] 343\n",
      "21901 3 22551 ['3'] 650\n",
      "21939 6 22135 ['6'] 196\n",
      "21943 3 22551 ['3'] 608\n",
      "21989 6 22135 ['6'] 146\n",
      "22034 3 22551 ['3'] 517\n",
      "22045 3 22551 ['3'] 506\n"
     ]
    }
   ],
   "source": [
    "puzzleinput='yjdafjpo'\n",
    "keyhashdict={}\n",
    "end=False\n",
    "i=-1\n",
    "valid_keys=[]\n",
    "while not end:\n",
    "\n",
    "    i+=1\n",
    "    \n",
    "    if i not in keyhashdict.keys():\n",
    "        generate_hash2(i)\n",
    "        \n",
    "    \n",
    "    #get string\n",
    "    hashobj=keyhashdict[i]\n",
    "    hashstr=hashobj.hashstr\n",
    "    #get triples\n",
    "    triples=hashobj.trips\n",
    "    \n",
    "    \n",
    "    \n",
    "    #search triples\n",
    "    valid_key=search_hashes2(triples,i)\n",
    "    if valid_key==True:\n",
    "        valid_keys.append(i)\n",
    "        \n",
    "    if len(valid_keys)==64:\n",
    "        end=True\n",
    "        "
   ]
  },
  {
   "cell_type": "code",
   "execution_count": null,
   "metadata": {
    "collapsed": true
   },
   "outputs": [],
   "source": []
  }
 ],
 "metadata": {
  "kernelspec": {
   "display_name": "Python 2",
   "language": "python",
   "name": "python2"
  },
  "language_info": {
   "codemirror_mode": {
    "name": "ipython",
    "version": 2
   },
   "file_extension": ".py",
   "mimetype": "text/x-python",
   "name": "python",
   "nbconvert_exporter": "python",
   "pygments_lexer": "ipython2",
   "version": "2.7.11"
  }
 },
 "nbformat": 4,
 "nbformat_minor": 0
}
