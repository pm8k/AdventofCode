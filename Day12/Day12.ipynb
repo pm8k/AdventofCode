{
 "cells": [
  {
   "cell_type": "code",
   "execution_count": 1,
   "metadata": {
    "collapsed": true
   },
   "outputs": [],
   "source": [
    "import pandas as pd"
   ]
  },
  {
   "cell_type": "code",
   "execution_count": 7,
   "metadata": {
    "collapsed": true
   },
   "outputs": [],
   "source": [
    "%load_ext autotime"
   ]
  },
  {
   "cell_type": "code",
   "execution_count": 2,
   "metadata": {
    "collapsed": false
   },
   "outputs": [],
   "source": [
    "df=pd.read_csv('Day12.csv',header=None)[0]"
   ]
  },
  {
   "cell_type": "code",
   "execution_count": 3,
   "metadata": {
    "collapsed": false
   },
   "outputs": [],
   "source": [
    "a,b,c=0,0,0"
   ]
  },
  {
   "cell_type": "code",
   "execution_count": 8,
   "metadata": {
    "collapsed": false
   },
   "outputs": [
    {
     "data": {
      "text/plain": [
       "0      cpy 1 a\n",
       "1      cpy 1 b\n",
       "2     cpy 26 d\n",
       "3      jnz c 2\n",
       "4      jnz 1 5\n",
       "5      cpy 7 c\n",
       "6        inc d\n",
       "7        dec c\n",
       "8     jnz c -2\n",
       "9      cpy a c\n",
       "10       inc a\n",
       "11       dec b\n",
       "12    jnz b -2\n",
       "13     cpy c b\n",
       "14       dec d\n",
       "15    jnz d -6\n",
       "16    cpy 18 c\n",
       "17    cpy 11 d\n",
       "18       inc a\n",
       "19       dec d\n",
       "20    jnz d -2\n",
       "21       dec c\n",
       "22    jnz c -5\n",
       "Name: 0, dtype: object"
      ]
     },
     "execution_count": 8,
     "metadata": {},
     "output_type": "execute_result"
    },
    {
     "name": "stdout",
     "output_type": "stream",
     "text": [
      "time: 3.63 ms\n"
     ]
    }
   ],
   "source": [
    "df"
   ]
  },
  {
   "cell_type": "code",
   "execution_count": 11,
   "metadata": {
    "collapsed": false
   },
   "outputs": [
    {
     "name": "stdout",
     "output_type": "stream",
     "text": [
      "time: 6min 25s\n"
     ]
    }
   ],
   "source": [
    "i=0\n",
    "num_dict={\n",
    "    'a':0,\n",
    "    'b':0,\n",
    "    'c':1,\n",
    "    'd':0\n",
    "}\n",
    "instrs=[]\n",
    "while i< len(df):\n",
    "    instruction=df.iloc[i]\n",
    "    instrs.append([instruction,num_dict['a'],num_dict['b']])\n",
    "    parsed=instruction.split(' ')\n",
    "    if parsed[0]=='cpy':\n",
    "        value=parsed[1]\n",
    "        if value in num_dict.keys():\n",
    "            num_dict[parsed[2]]=num_dict[parsed[1]]\n",
    "        else:\n",
    "            num_dict[parsed[2]]=int(parsed[1])\n",
    "    elif parsed[0]=='jnz':\n",
    "        value=parsed[1]\n",
    "        if value in num_dict.keys():\n",
    "            if num_dict[value] != 0:\n",
    "                i+=int(parsed[2])\n",
    "\n",
    "                continue\n",
    "        else:\n",
    "            if int(parsed[1])!=0:\n",
    "                i+=int(parsed[2])\n",
    "                continue\n",
    "    elif parsed[0]=='inc':\n",
    "        num_dict[parsed[1]]+=1\n",
    "    elif parsed[0]=='dec':\n",
    "        num_dict[parsed[1]]-=1\n",
    "    i+=1\n",
    "    \n",
    "        "
   ]
  },
  {
   "cell_type": "code",
   "execution_count": 12,
   "metadata": {
    "collapsed": false
   },
   "outputs": [
    {
     "data": {
      "text/plain": [
       "{'a': 9227663, 'b': 5702887, 'c': 0, 'd': 0}"
      ]
     },
     "execution_count": 12,
     "metadata": {},
     "output_type": "execute_result"
    },
    {
     "name": "stdout",
     "output_type": "stream",
     "text": [
      "time: 1.97 ms\n"
     ]
    }
   ],
   "source": [
    "num_dict"
   ]
  },
  {
   "cell_type": "markdown",
   "metadata": {
    "collapsed": true
   },
   "source": [
    "## How to write this faster?\n",
    "We know that there are some portions of the code that get looped over for a large number of iterations. If we can speed this up by finding the patterns and executing it all at once, we can save ourselves a large number of iterations. The two main problems would be:\n",
    " 1. making sure the iterations are predictable to determine \n",
    " 2. the threshold of the loop is known, making it so we can put the object at a state right before it is finished"
   ]
  },
  {
   "cell_type": "markdown",
   "metadata": {},
   "source": [
    "#### Let's create a second notebook to investigate"
   ]
  },
  {
   "cell_type": "code",
   "execution_count": null,
   "metadata": {
    "collapsed": true
   },
   "outputs": [],
   "source": []
  }
 ],
 "metadata": {
  "anaconda-cloud": {},
  "kernelspec": {
   "display_name": "Python 2",
   "language": "python",
   "name": "python2"
  },
  "language_info": {
   "codemirror_mode": {
    "name": "ipython",
    "version": 2
   },
   "file_extension": ".py",
   "mimetype": "text/x-python",
   "name": "python",
   "nbconvert_exporter": "python",
   "pygments_lexer": "ipython2",
   "version": "2.7.11"
  }
 },
 "nbformat": 4,
 "nbformat_minor": 1
}
