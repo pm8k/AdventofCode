{
 "cells": [
  {
   "cell_type": "code",
   "execution_count": 1,
   "metadata": {
    "collapsed": true
   },
   "outputs": [],
   "source": [
    "import pandas as pd"
   ]
  },
  {
   "cell_type": "code",
   "execution_count": 63,
   "metadata": {
    "collapsed": false
   },
   "outputs": [],
   "source": [
    "inseries=pd.read_csv('project4.csv',squeeze=True,header=None)"
   ]
  },
  {
   "cell_type": "code",
   "execution_count": 64,
   "metadata": {
    "collapsed": true
   },
   "outputs": [],
   "source": [
    "def parse_str(s):\n",
    "    splitlist=s.split('-')\n",
    "    chars=splitlist[:-1]\n",
    "    charstr=''.join(chars)\n",
    "    sortedseries=pd.Series(list(charstr)).value_counts().reset_index().sort_values([0,'index'],ascending=[False,True])\n",
    "    comparestr=''.join(sortedseries[:5]['index'].tolist())\n",
    "    secondsplit=splitlist[-1].split('[')\n",
    "    sectorid=int(secondsplit[0])\n",
    "    check=secondsplit[1][:-1]\n",
    "    return pd.Series([sectorid, check==comparestr],index=['sector_id','check_flag'])"
   ]
  },
  {
   "cell_type": "code",
   "execution_count": 149,
   "metadata": {
    "collapsed": false
   },
   "outputs": [
    {
     "name": "stdout",
     "output_type": "stream",
     "text": [
      "245102\n"
     ]
    }
   ],
   "source": [
    "outdf=inseries.apply(parse_str)\n",
    "outdf['code']=inseries\n",
    "print outdf[outdf.check_flag==True].sector_id.sum()"
   ]
  },
  {
   "cell_type": "code",
   "execution_count": 150,
   "metadata": {
    "collapsed": false
   },
   "outputs": [],
   "source": [
    "def translate_rooms(s):\n",
    "    splitlist=s.code.split('-')\n",
    "    chars=' '.join(splitlist[:-1])\n",
    "    final_code = [chr((ord(char)-97 + s.sector_id)%26 + 97) if char!=' ' else char for char in chars]\n",
    "    return ''.join(final_code)"
   ]
  },
  {
   "cell_type": "code",
   "execution_count": 151,
   "metadata": {
    "collapsed": false
   },
   "outputs": [
    {
     "name": "stderr",
     "output_type": "stream",
     "text": [
      "/Users/matthew.russell/anaconda/lib/python2.7/site-packages/ipykernel/__main__.py:2: SettingWithCopyWarning: \n",
      "A value is trying to be set on a copy of a slice from a DataFrame.\n",
      "Try using .loc[row_indexer,col_indexer] = value instead\n",
      "\n",
      "See the caveats in the documentation: http://pandas.pydata.org/pandas-docs/stable/indexing.html#indexing-view-versus-copy\n",
      "  from ipykernel import kernelapp as app\n"
     ]
    },
    {
     "data": {
      "text/plain": [
       "581    324\n",
       "Name: sector_id, dtype: int64"
      ]
     },
     "execution_count": 151,
     "metadata": {},
     "output_type": "execute_result"
    }
   ],
   "source": [
    "validrooms=outdf[outdf.check_flag==True]\n",
    "validrooms['translate'] = validrooms.apply(translate_rooms,axis=1)\n",
    "validrooms[validrooms.translate.map(lambda x: 'north' in x)].sector_id"
   ]
  },
  {
   "cell_type": "code",
   "execution_count": null,
   "metadata": {
    "collapsed": true
   },
   "outputs": [],
   "source": []
  }
 ],
 "metadata": {
  "kernelspec": {
   "display_name": "Python 2",
   "language": "python",
   "name": "python2"
  },
  "language_info": {
   "codemirror_mode": {
    "name": "ipython",
    "version": 2
   },
   "file_extension": ".py",
   "mimetype": "text/x-python",
   "name": "python",
   "nbconvert_exporter": "python",
   "pygments_lexer": "ipython2",
   "version": "2.7.11"
  }
 },
 "nbformat": 4,
 "nbformat_minor": 0
}
