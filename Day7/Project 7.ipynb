{
 "cells": [
  {
   "cell_type": "code",
   "execution_count": 1,
   "metadata": {
    "collapsed": true
   },
   "outputs": [],
   "source": [
    "import pandas as pd\n",
    "import re"
   ]
  },
  {
   "cell_type": "code",
   "execution_count": 3,
   "metadata": {
    "collapsed": false
   },
   "outputs": [],
   "source": [
    "df = pd.read_csv('Project7.csv',header=None)"
   ]
  },
  {
   "cell_type": "code",
   "execution_count": 97,
   "metadata": {
    "collapsed": false
   },
   "outputs": [],
   "source": [
    "def testabba(string):\n",
    "    for i in range(len(string)-3):\n",
    "        if string[i+2]==string[i+1] and string[i+3]==string[i] and string[i]!=string[i+1]:\n",
    "            return True\n",
    "    return False\n",
    "\n",
    "def tls(s):\n",
    "    ip=s[0]\n",
    "    outsidelist=re.split('\\[.+?\\]',ip)\n",
    "    insidelist=re.findall('\\[.+?\\]',ip)\n",
    "    insidelist=[x[1:-1] for x in insidelist]\n",
    "    outsideabba=[testabba(x) for x in outsidelist]\n",
    "    insideabba=[testabba(x) for x in insidelist]\n",
    "    if True in outsideabba and True not in insideabba:\n",
    "        return True\n",
    "    else:\n",
    "        return False"
   ]
  },
  {
   "cell_type": "code",
   "execution_count": 98,
   "metadata": {
    "collapsed": false
   },
   "outputs": [],
   "source": [
    "df['tls_flag']=df.apply(tls,axis=1)"
   ]
  },
  {
   "cell_type": "code",
   "execution_count": 102,
   "metadata": {
    "collapsed": false
   },
   "outputs": [
    {
     "data": {
      "text/plain": [
       "118"
      ]
     },
     "execution_count": 102,
     "metadata": {},
     "output_type": "execute_result"
    }
   ],
   "source": [
    "df.tls_flag.value_counts()[True]"
   ]
  },
  {
   "cell_type": "code",
   "execution_count": 111,
   "metadata": {
    "collapsed": true
   },
   "outputs": [],
   "source": [
    "def testaba(string):\n",
    "    abas=[]\n",
    "    for i in range(len(string)-2):\n",
    "        if string[i+2]==string[i] and string[i]!=string[i+1]:\n",
    "            abas.append(string[i:i+3])\n",
    "    return abas\n",
    "\n",
    "def ssl(s):\n",
    "    ip=s[0]\n",
    "    outsidelist=re.split('\\[.+?\\]',ip)\n",
    "    insidelist=re.findall('\\[.+?\\]',ip)\n",
    "    insidelist=[x[1:-1] for x in insidelist]\n",
    "    outsideabba=[testaba(x) for x in outsidelist]\n",
    "    outsideabba=[i for j in outsideabba for i in j]\n",
    "    insideabba=[testaba(x) for x in insidelist]\n",
    "    insideabba=[i for j in insideabba for i in j]\n",
    "    insideabba=[x[1]+x[0]+x[1] for x in insideabba]\n",
    "    \n",
    "    if len(set(outsideabba).intersection(insideabba))>0:\n",
    "        return True\n",
    "    else:\n",
    "        return False"
   ]
  },
  {
   "cell_type": "code",
   "execution_count": 112,
   "metadata": {
    "collapsed": false
   },
   "outputs": [
    {
     "data": {
      "text/plain": [
       "118"
      ]
     },
     "execution_count": 112,
     "metadata": {},
     "output_type": "execute_result"
    }
   ],
   "source": [
    "df['ssl_flag']=df.apply(ssl,axis=1)\n",
    "df.tls_flag.value_counts()[True]"
   ]
  },
  {
   "cell_type": "code",
   "execution_count": 106,
   "metadata": {
    "collapsed": false
   },
   "outputs": [],
   "source": [
    "t=[[1,2],[2,3]]"
   ]
  },
  {
   "cell_type": "code",
   "execution_count": 108,
   "metadata": {
    "collapsed": false
   },
   "outputs": [
    {
     "data": {
      "text/plain": [
       "[1, 2, 2, 3]"
      ]
     },
     "execution_count": 108,
     "metadata": {},
     "output_type": "execute_result"
    }
   ],
   "source": [
    "[x for y in t for x in y]"
   ]
  },
  {
   "cell_type": "code",
   "execution_count": 110,
   "metadata": {
    "collapsed": false
   },
   "outputs": [
    {
     "data": {
      "text/plain": [
       "1"
      ]
     },
     "execution_count": 110,
     "metadata": {},
     "output_type": "execute_result"
    }
   ],
   "source": [
    "len(set(t[0]).intersection(t[1]))"
   ]
  },
  {
   "cell_type": "code",
   "execution_count": null,
   "metadata": {
    "collapsed": true
   },
   "outputs": [],
   "source": []
  }
 ],
 "metadata": {
  "kernelspec": {
   "display_name": "Python 2",
   "language": "python",
   "name": "python2"
  },
  "language_info": {
   "codemirror_mode": {
    "name": "ipython",
    "version": 2
   },
   "file_extension": ".py",
   "mimetype": "text/x-python",
   "name": "python",
   "nbconvert_exporter": "python",
   "pygments_lexer": "ipython2",
   "version": "2.7.11"
  }
 },
 "nbformat": 4,
 "nbformat_minor": 0
}
