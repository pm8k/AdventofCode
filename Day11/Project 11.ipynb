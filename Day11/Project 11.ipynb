{
 "cells": [
  {
   "cell_type": "code",
   "execution_count": 9,
   "metadata": {
    "collapsed": true
   },
   "outputs": [],
   "source": [
    "import pandas as pd\n",
    "import string"
   ]
  },
  {
   "cell_type": "code",
   "execution_count": 4,
   "metadata": {
    "collapsed": true
   },
   "outputs": [],
   "source": [
    "df=pd.read_csv('Project11.csv',header=None,sep='|')"
   ]
  },
  {
   "cell_type": "code",
   "execution_count": 23,
   "metadata": {
    "collapsed": false
   },
   "outputs": [
    {
     "data": {
      "text/plain": [
       "'The third floor contains a promethium generator, a promethium-compatible microchip, a ruthenium generator, and a ruthenium-compatible microchip.'"
      ]
     },
     "execution_count": 23,
     "metadata": {},
     "output_type": "execute_result"
    }
   ],
   "source": [
    "df[0][2]"
   ]
  },
  {
   "cell_type": "code",
   "execution_count": 25,
   "metadata": {
    "collapsed": false
   },
   "outputs": [],
   "source": [
    "locdict={1:[],2:[],3:[],4:[]}\n",
    "elevator_loc=[1]\n",
    "for i in range(4):\n",
    "    splitstr=df.iloc[i][0].translate(None,string.punctuation).split(' ')\n",
    "    for j,word in enumerate(splitstr):\n",
    "        if word=='microchip' or word=='generator':\n",
    "            locdict[i+1].append({'element':splitstr[j-1].replace('compatible',''),'type':word})\n",
    "            "
   ]
  },
  {
   "cell_type": "code",
   "execution_count": 26,
   "metadata": {
    "collapsed": false
   },
   "outputs": [
    {
     "data": {
      "text/plain": [
       "{1: [{'element': 'thulium', 'type': 'generator'},\n",
       "  {'element': 'thulium', 'type': 'microchip'},\n",
       "  {'element': 'plutonium', 'type': 'generator'},\n",
       "  {'element': 'strontium', 'type': 'generator'}],\n",
       " 2: [{'element': 'plutonium', 'type': 'microchip'},\n",
       "  {'element': 'strontium', 'type': 'microchip'}],\n",
       " 3: [{'element': 'promethium', 'type': 'generator'},\n",
       "  {'element': 'promethium', 'type': 'microchip'},\n",
       "  {'element': 'ruthenium', 'type': 'generator'},\n",
       "  {'element': 'ruthenium', 'type': 'microchip'}]}"
      ]
     },
     "execution_count": 26,
     "metadata": {},
     "output_type": "execute_result"
    }
   ],
   "source": [
    "locdict"
   ]
  },
  {
   "cell_type": "code",
   "execution_count": 19,
   "metadata": {
    "collapsed": false
   },
   "outputs": [
    {
     "data": {
      "text/plain": [
       "'as'"
      ]
     },
     "execution_count": 19,
     "metadata": {},
     "output_type": "execute_result"
    }
   ],
   "source": [
    "'asdf'.replace('df','')"
   ]
  },
  {
   "cell_type": "code",
   "execution_count": 31,
   "metadata": {
    "collapsed": false
   },
   "outputs": [],
   "source": [
    "df1=pd.DataFrame(locdict[1])\n",
    "df1['floor']=1\n",
    "df2=pd.DataFrame(locdict[2])\n",
    "df2['floor']=2\n",
    "df3=pd.DataFrame(locdict[3])\n",
    "df3['floor']=3\n",
    "\n",
    "finaldf=pd.concat([df1,df2,df3]).reset_index(drop=True)"
   ]
  },
  {
   "cell_type": "code",
   "execution_count": 33,
   "metadata": {
    "collapsed": false
   },
   "outputs": [
    {
     "data": {
      "text/html": [
       "<div>\n",
       "<table border=\"1\" class=\"dataframe\">\n",
       "  <thead>\n",
       "    <tr style=\"text-align: right;\">\n",
       "      <th></th>\n",
       "      <th>element</th>\n",
       "      <th>type</th>\n",
       "      <th>floor</th>\n",
       "    </tr>\n",
       "  </thead>\n",
       "  <tbody>\n",
       "    <tr>\n",
       "      <th>0</th>\n",
       "      <td>thulium</td>\n",
       "      <td>generator</td>\n",
       "      <td>1</td>\n",
       "    </tr>\n",
       "    <tr>\n",
       "      <th>1</th>\n",
       "      <td>thulium</td>\n",
       "      <td>microchip</td>\n",
       "      <td>1</td>\n",
       "    </tr>\n",
       "    <tr>\n",
       "      <th>2</th>\n",
       "      <td>plutonium</td>\n",
       "      <td>generator</td>\n",
       "      <td>1</td>\n",
       "    </tr>\n",
       "    <tr>\n",
       "      <th>3</th>\n",
       "      <td>strontium</td>\n",
       "      <td>generator</td>\n",
       "      <td>1</td>\n",
       "    </tr>\n",
       "    <tr>\n",
       "      <th>4</th>\n",
       "      <td>plutonium</td>\n",
       "      <td>microchip</td>\n",
       "      <td>2</td>\n",
       "    </tr>\n",
       "    <tr>\n",
       "      <th>5</th>\n",
       "      <td>strontium</td>\n",
       "      <td>microchip</td>\n",
       "      <td>2</td>\n",
       "    </tr>\n",
       "    <tr>\n",
       "      <th>6</th>\n",
       "      <td>promethium</td>\n",
       "      <td>generator</td>\n",
       "      <td>3</td>\n",
       "    </tr>\n",
       "    <tr>\n",
       "      <th>7</th>\n",
       "      <td>promethium</td>\n",
       "      <td>microchip</td>\n",
       "      <td>3</td>\n",
       "    </tr>\n",
       "    <tr>\n",
       "      <th>8</th>\n",
       "      <td>ruthenium</td>\n",
       "      <td>generator</td>\n",
       "      <td>3</td>\n",
       "    </tr>\n",
       "    <tr>\n",
       "      <th>9</th>\n",
       "      <td>ruthenium</td>\n",
       "      <td>microchip</td>\n",
       "      <td>3</td>\n",
       "    </tr>\n",
       "  </tbody>\n",
       "</table>\n",
       "</div>"
      ],
      "text/plain": [
       "      element       type  floor\n",
       "0     thulium  generator      1\n",
       "1     thulium  microchip      1\n",
       "2   plutonium  generator      1\n",
       "3   strontium  generator      1\n",
       "4   plutonium  microchip      2\n",
       "5   strontium  microchip      2\n",
       "6  promethium  generator      3\n",
       "7  promethium  microchip      3\n",
       "8   ruthenium  generator      3\n",
       "9   ruthenium  microchip      3"
      ]
     },
     "execution_count": 33,
     "metadata": {},
     "output_type": "execute_result"
    }
   ],
   "source": [
    "finaldf"
   ]
  },
  {
   "cell_type": "code",
   "execution_count": 48,
   "metadata": {
    "collapsed": false
   },
   "outputs": [],
   "source": [
    "def make_map(s):\n",
    "    colname=s.element+'_'+s['type']\n",
    "    newseries=pd.Series([colname,1],index=['colname',s.floor],name=colname)\n",
    "    \n",
    "    return newseries\n",
    "\n",
    "finaldf_alt = finaldf.apply(make_map,axis=1).set_index('colname').transpose().fillna(0)\n",
    "finaldf_alt.loc[4]=0\n",
    "finaldf_alt.sort_index(ascending=False,inplace=True)"
   ]
  },
  {
   "cell_type": "code",
   "execution_count": 53,
   "metadata": {
    "collapsed": false
   },
   "outputs": [
    {
     "data": {
      "text/html": [
       "\n",
       "        <style  type=\"text/css\" >\n",
       "        \n",
       "        \n",
       "            #T_5e3e3028_c17a_11e6_8992_a45e60e50895row1_col6 {\n",
       "            \n",
       "                background-color:  green;\n",
       "            \n",
       "            }\n",
       "        \n",
       "            #T_5e3e3028_c17a_11e6_8992_a45e60e50895row1_col7 {\n",
       "            \n",
       "                background-color:  green;\n",
       "            \n",
       "            }\n",
       "        \n",
       "            #T_5e3e3028_c17a_11e6_8992_a45e60e50895row1_col8 {\n",
       "            \n",
       "                background-color:  green;\n",
       "            \n",
       "            }\n",
       "        \n",
       "            #T_5e3e3028_c17a_11e6_8992_a45e60e50895row1_col9 {\n",
       "            \n",
       "                background-color:  green;\n",
       "            \n",
       "            }\n",
       "        \n",
       "            #T_5e3e3028_c17a_11e6_8992_a45e60e50895row2_col4 {\n",
       "            \n",
       "                background-color:  green;\n",
       "            \n",
       "            }\n",
       "        \n",
       "            #T_5e3e3028_c17a_11e6_8992_a45e60e50895row2_col5 {\n",
       "            \n",
       "                background-color:  green;\n",
       "            \n",
       "            }\n",
       "        \n",
       "            #T_5e3e3028_c17a_11e6_8992_a45e60e50895row3_col0 {\n",
       "            \n",
       "                background-color:  green;\n",
       "            \n",
       "            }\n",
       "        \n",
       "            #T_5e3e3028_c17a_11e6_8992_a45e60e50895row3_col1 {\n",
       "            \n",
       "                background-color:  green;\n",
       "            \n",
       "            }\n",
       "        \n",
       "            #T_5e3e3028_c17a_11e6_8992_a45e60e50895row3_col2 {\n",
       "            \n",
       "                background-color:  green;\n",
       "            \n",
       "            }\n",
       "        \n",
       "            #T_5e3e3028_c17a_11e6_8992_a45e60e50895row3_col3 {\n",
       "            \n",
       "                background-color:  green;\n",
       "            \n",
       "            }\n",
       "        \n",
       "        </style>\n",
       "\n",
       "        <table id=\"T_5e3e3028_c17a_11e6_8992_a45e60e50895\" None>\n",
       "        \n",
       "\n",
       "        <thead>\n",
       "            \n",
       "            <tr>\n",
       "                \n",
       "                \n",
       "                <th class=\"index_name level0\" >\n",
       "                  colname\n",
       "                \n",
       "                \n",
       "                \n",
       "                <th class=\"col_heading level0 col0\" colspan=1>\n",
       "                  thulium_generator\n",
       "                \n",
       "                \n",
       "                \n",
       "                <th class=\"col_heading level0 col1\" colspan=1>\n",
       "                  thulium_microchip\n",
       "                \n",
       "                \n",
       "                \n",
       "                <th class=\"col_heading level0 col2\" colspan=1>\n",
       "                  plutonium_generator\n",
       "                \n",
       "                \n",
       "                \n",
       "                <th class=\"col_heading level0 col3\" colspan=1>\n",
       "                  strontium_generator\n",
       "                \n",
       "                \n",
       "                \n",
       "                <th class=\"col_heading level0 col4\" colspan=1>\n",
       "                  plutonium_microchip\n",
       "                \n",
       "                \n",
       "                \n",
       "                <th class=\"col_heading level0 col5\" colspan=1>\n",
       "                  strontium_microchip\n",
       "                \n",
       "                \n",
       "                \n",
       "                <th class=\"col_heading level0 col6\" colspan=1>\n",
       "                  promethium_generator\n",
       "                \n",
       "                \n",
       "                \n",
       "                <th class=\"col_heading level0 col7\" colspan=1>\n",
       "                  promethium_microchip\n",
       "                \n",
       "                \n",
       "                \n",
       "                <th class=\"col_heading level0 col8\" colspan=1>\n",
       "                  ruthenium_generator\n",
       "                \n",
       "                \n",
       "                \n",
       "                <th class=\"col_heading level0 col9\" colspan=1>\n",
       "                  ruthenium_microchip\n",
       "                \n",
       "                \n",
       "            </tr>\n",
       "            \n",
       "        </thead>\n",
       "        <tbody>\n",
       "            \n",
       "            <tr>\n",
       "                \n",
       "                \n",
       "                <th id=\"T_5e3e3028_c17a_11e6_8992_a45e60e50895\"\n",
       "                 class=\"row_heading level0 row0\" rowspan=1>\n",
       "                    4\n",
       "                \n",
       "                \n",
       "                \n",
       "                <td id=\"T_5e3e3028_c17a_11e6_8992_a45e60e50895row0_col0\"\n",
       "                 class=\"data row0 col0\" >\n",
       "                    0\n",
       "                \n",
       "                \n",
       "                \n",
       "                <td id=\"T_5e3e3028_c17a_11e6_8992_a45e60e50895row0_col1\"\n",
       "                 class=\"data row0 col1\" >\n",
       "                    0\n",
       "                \n",
       "                \n",
       "                \n",
       "                <td id=\"T_5e3e3028_c17a_11e6_8992_a45e60e50895row0_col2\"\n",
       "                 class=\"data row0 col2\" >\n",
       "                    0\n",
       "                \n",
       "                \n",
       "                \n",
       "                <td id=\"T_5e3e3028_c17a_11e6_8992_a45e60e50895row0_col3\"\n",
       "                 class=\"data row0 col3\" >\n",
       "                    0\n",
       "                \n",
       "                \n",
       "                \n",
       "                <td id=\"T_5e3e3028_c17a_11e6_8992_a45e60e50895row0_col4\"\n",
       "                 class=\"data row0 col4\" >\n",
       "                    0\n",
       "                \n",
       "                \n",
       "                \n",
       "                <td id=\"T_5e3e3028_c17a_11e6_8992_a45e60e50895row0_col5\"\n",
       "                 class=\"data row0 col5\" >\n",
       "                    0\n",
       "                \n",
       "                \n",
       "                \n",
       "                <td id=\"T_5e3e3028_c17a_11e6_8992_a45e60e50895row0_col6\"\n",
       "                 class=\"data row0 col6\" >\n",
       "                    0\n",
       "                \n",
       "                \n",
       "                \n",
       "                <td id=\"T_5e3e3028_c17a_11e6_8992_a45e60e50895row0_col7\"\n",
       "                 class=\"data row0 col7\" >\n",
       "                    0\n",
       "                \n",
       "                \n",
       "                \n",
       "                <td id=\"T_5e3e3028_c17a_11e6_8992_a45e60e50895row0_col8\"\n",
       "                 class=\"data row0 col8\" >\n",
       "                    0\n",
       "                \n",
       "                \n",
       "                \n",
       "                <td id=\"T_5e3e3028_c17a_11e6_8992_a45e60e50895row0_col9\"\n",
       "                 class=\"data row0 col9\" >\n",
       "                    0\n",
       "                \n",
       "                \n",
       "            </tr>\n",
       "            \n",
       "            <tr>\n",
       "                \n",
       "                \n",
       "                <th id=\"T_5e3e3028_c17a_11e6_8992_a45e60e50895\"\n",
       "                 class=\"row_heading level0 row1\" rowspan=1>\n",
       "                    3\n",
       "                \n",
       "                \n",
       "                \n",
       "                <td id=\"T_5e3e3028_c17a_11e6_8992_a45e60e50895row1_col0\"\n",
       "                 class=\"data row1 col0\" >\n",
       "                    0\n",
       "                \n",
       "                \n",
       "                \n",
       "                <td id=\"T_5e3e3028_c17a_11e6_8992_a45e60e50895row1_col1\"\n",
       "                 class=\"data row1 col1\" >\n",
       "                    0\n",
       "                \n",
       "                \n",
       "                \n",
       "                <td id=\"T_5e3e3028_c17a_11e6_8992_a45e60e50895row1_col2\"\n",
       "                 class=\"data row1 col2\" >\n",
       "                    0\n",
       "                \n",
       "                \n",
       "                \n",
       "                <td id=\"T_5e3e3028_c17a_11e6_8992_a45e60e50895row1_col3\"\n",
       "                 class=\"data row1 col3\" >\n",
       "                    0\n",
       "                \n",
       "                \n",
       "                \n",
       "                <td id=\"T_5e3e3028_c17a_11e6_8992_a45e60e50895row1_col4\"\n",
       "                 class=\"data row1 col4\" >\n",
       "                    0\n",
       "                \n",
       "                \n",
       "                \n",
       "                <td id=\"T_5e3e3028_c17a_11e6_8992_a45e60e50895row1_col5\"\n",
       "                 class=\"data row1 col5\" >\n",
       "                    0\n",
       "                \n",
       "                \n",
       "                \n",
       "                <td id=\"T_5e3e3028_c17a_11e6_8992_a45e60e50895row1_col6\"\n",
       "                 class=\"data row1 col6\" >\n",
       "                    1\n",
       "                \n",
       "                \n",
       "                \n",
       "                <td id=\"T_5e3e3028_c17a_11e6_8992_a45e60e50895row1_col7\"\n",
       "                 class=\"data row1 col7\" >\n",
       "                    1\n",
       "                \n",
       "                \n",
       "                \n",
       "                <td id=\"T_5e3e3028_c17a_11e6_8992_a45e60e50895row1_col8\"\n",
       "                 class=\"data row1 col8\" >\n",
       "                    1\n",
       "                \n",
       "                \n",
       "                \n",
       "                <td id=\"T_5e3e3028_c17a_11e6_8992_a45e60e50895row1_col9\"\n",
       "                 class=\"data row1 col9\" >\n",
       "                    1\n",
       "                \n",
       "                \n",
       "            </tr>\n",
       "            \n",
       "            <tr>\n",
       "                \n",
       "                \n",
       "                <th id=\"T_5e3e3028_c17a_11e6_8992_a45e60e50895\"\n",
       "                 class=\"row_heading level0 row2\" rowspan=1>\n",
       "                    2\n",
       "                \n",
       "                \n",
       "                \n",
       "                <td id=\"T_5e3e3028_c17a_11e6_8992_a45e60e50895row2_col0\"\n",
       "                 class=\"data row2 col0\" >\n",
       "                    0\n",
       "                \n",
       "                \n",
       "                \n",
       "                <td id=\"T_5e3e3028_c17a_11e6_8992_a45e60e50895row2_col1\"\n",
       "                 class=\"data row2 col1\" >\n",
       "                    0\n",
       "                \n",
       "                \n",
       "                \n",
       "                <td id=\"T_5e3e3028_c17a_11e6_8992_a45e60e50895row2_col2\"\n",
       "                 class=\"data row2 col2\" >\n",
       "                    0\n",
       "                \n",
       "                \n",
       "                \n",
       "                <td id=\"T_5e3e3028_c17a_11e6_8992_a45e60e50895row2_col3\"\n",
       "                 class=\"data row2 col3\" >\n",
       "                    0\n",
       "                \n",
       "                \n",
       "                \n",
       "                <td id=\"T_5e3e3028_c17a_11e6_8992_a45e60e50895row2_col4\"\n",
       "                 class=\"data row2 col4\" >\n",
       "                    1\n",
       "                \n",
       "                \n",
       "                \n",
       "                <td id=\"T_5e3e3028_c17a_11e6_8992_a45e60e50895row2_col5\"\n",
       "                 class=\"data row2 col5\" >\n",
       "                    1\n",
       "                \n",
       "                \n",
       "                \n",
       "                <td id=\"T_5e3e3028_c17a_11e6_8992_a45e60e50895row2_col6\"\n",
       "                 class=\"data row2 col6\" >\n",
       "                    0\n",
       "                \n",
       "                \n",
       "                \n",
       "                <td id=\"T_5e3e3028_c17a_11e6_8992_a45e60e50895row2_col7\"\n",
       "                 class=\"data row2 col7\" >\n",
       "                    0\n",
       "                \n",
       "                \n",
       "                \n",
       "                <td id=\"T_5e3e3028_c17a_11e6_8992_a45e60e50895row2_col8\"\n",
       "                 class=\"data row2 col8\" >\n",
       "                    0\n",
       "                \n",
       "                \n",
       "                \n",
       "                <td id=\"T_5e3e3028_c17a_11e6_8992_a45e60e50895row2_col9\"\n",
       "                 class=\"data row2 col9\" >\n",
       "                    0\n",
       "                \n",
       "                \n",
       "            </tr>\n",
       "            \n",
       "            <tr>\n",
       "                \n",
       "                \n",
       "                <th id=\"T_5e3e3028_c17a_11e6_8992_a45e60e50895\"\n",
       "                 class=\"row_heading level0 row3\" rowspan=1>\n",
       "                    1\n",
       "                \n",
       "                \n",
       "                \n",
       "                <td id=\"T_5e3e3028_c17a_11e6_8992_a45e60e50895row3_col0\"\n",
       "                 class=\"data row3 col0\" >\n",
       "                    1\n",
       "                \n",
       "                \n",
       "                \n",
       "                <td id=\"T_5e3e3028_c17a_11e6_8992_a45e60e50895row3_col1\"\n",
       "                 class=\"data row3 col1\" >\n",
       "                    1\n",
       "                \n",
       "                \n",
       "                \n",
       "                <td id=\"T_5e3e3028_c17a_11e6_8992_a45e60e50895row3_col2\"\n",
       "                 class=\"data row3 col2\" >\n",
       "                    1\n",
       "                \n",
       "                \n",
       "                \n",
       "                <td id=\"T_5e3e3028_c17a_11e6_8992_a45e60e50895row3_col3\"\n",
       "                 class=\"data row3 col3\" >\n",
       "                    1\n",
       "                \n",
       "                \n",
       "                \n",
       "                <td id=\"T_5e3e3028_c17a_11e6_8992_a45e60e50895row3_col4\"\n",
       "                 class=\"data row3 col4\" >\n",
       "                    0\n",
       "                \n",
       "                \n",
       "                \n",
       "                <td id=\"T_5e3e3028_c17a_11e6_8992_a45e60e50895row3_col5\"\n",
       "                 class=\"data row3 col5\" >\n",
       "                    0\n",
       "                \n",
       "                \n",
       "                \n",
       "                <td id=\"T_5e3e3028_c17a_11e6_8992_a45e60e50895row3_col6\"\n",
       "                 class=\"data row3 col6\" >\n",
       "                    0\n",
       "                \n",
       "                \n",
       "                \n",
       "                <td id=\"T_5e3e3028_c17a_11e6_8992_a45e60e50895row3_col7\"\n",
       "                 class=\"data row3 col7\" >\n",
       "                    0\n",
       "                \n",
       "                \n",
       "                \n",
       "                <td id=\"T_5e3e3028_c17a_11e6_8992_a45e60e50895row3_col8\"\n",
       "                 class=\"data row3 col8\" >\n",
       "                    0\n",
       "                \n",
       "                \n",
       "                \n",
       "                <td id=\"T_5e3e3028_c17a_11e6_8992_a45e60e50895row3_col9\"\n",
       "                 class=\"data row3 col9\" >\n",
       "                    0\n",
       "                \n",
       "                \n",
       "            </tr>\n",
       "            \n",
       "        </tbody>\n",
       "        </table>\n",
       "        "
      ],
      "text/plain": [
       "<pandas.formats.style.Styler at 0x110838d10>"
      ]
     },
     "execution_count": 53,
     "metadata": {},
     "output_type": "execute_result"
    }
   ],
   "source": [
    "finaldf_alt.style.highlight_max(color='green')"
   ]
  },
  {
   "cell_type": "code",
   "execution_count": null,
   "metadata": {
    "collapsed": true
   },
   "outputs": [],
   "source": [
    "# need to do optimization type algorithm\n",
    "# first identify number of valid moves from the current floor (1 or 2 machines)\n",
    "# start a chain from each branch, which will recursively call the identification function\n",
    "# invalid moves will also be passed, which is the reverse of what just happened (don't move machine up, then back down)\n",
    "# check to see if all machiens are on the top floor: if so, end chain, and list of moves\n",
    "# look at all chains, and find one with min length"
   ]
  },
  {
   "cell_type": "code",
   "execution_count": 171,
   "metadata": {
    "collapsed": false
   },
   "outputs": [
    {
     "data": {
      "text/html": [
       "<div>\n",
       "<table border=\"1\" class=\"dataframe\">\n",
       "  <thead>\n",
       "    <tr style=\"text-align: right;\">\n",
       "      <th></th>\n",
       "      <th>element</th>\n",
       "      <th>type</th>\n",
       "      <th>floor</th>\n",
       "    </tr>\n",
       "  </thead>\n",
       "  <tbody>\n",
       "    <tr>\n",
       "      <th>0</th>\n",
       "      <td>thulium</td>\n",
       "      <td>generator</td>\n",
       "      <td>1</td>\n",
       "    </tr>\n",
       "    <tr>\n",
       "      <th>1</th>\n",
       "      <td>thulium</td>\n",
       "      <td>microchip</td>\n",
       "      <td>1</td>\n",
       "    </tr>\n",
       "    <tr>\n",
       "      <th>2</th>\n",
       "      <td>plutonium</td>\n",
       "      <td>generator</td>\n",
       "      <td>1</td>\n",
       "    </tr>\n",
       "    <tr>\n",
       "      <th>3</th>\n",
       "      <td>strontium</td>\n",
       "      <td>generator</td>\n",
       "      <td>1</td>\n",
       "    </tr>\n",
       "    <tr>\n",
       "      <th>4</th>\n",
       "      <td>plutonium</td>\n",
       "      <td>microchip</td>\n",
       "      <td>2</td>\n",
       "    </tr>\n",
       "    <tr>\n",
       "      <th>5</th>\n",
       "      <td>strontium</td>\n",
       "      <td>microchip</td>\n",
       "      <td>2</td>\n",
       "    </tr>\n",
       "    <tr>\n",
       "      <th>6</th>\n",
       "      <td>promethium</td>\n",
       "      <td>generator</td>\n",
       "      <td>3</td>\n",
       "    </tr>\n",
       "    <tr>\n",
       "      <th>7</th>\n",
       "      <td>promethium</td>\n",
       "      <td>microchip</td>\n",
       "      <td>3</td>\n",
       "    </tr>\n",
       "    <tr>\n",
       "      <th>8</th>\n",
       "      <td>ruthenium</td>\n",
       "      <td>generator</td>\n",
       "      <td>3</td>\n",
       "    </tr>\n",
       "    <tr>\n",
       "      <th>9</th>\n",
       "      <td>ruthenium</td>\n",
       "      <td>microchip</td>\n",
       "      <td>3</td>\n",
       "    </tr>\n",
       "  </tbody>\n",
       "</table>\n",
       "</div>"
      ],
      "text/plain": [
       "      element       type  floor\n",
       "0     thulium  generator      1\n",
       "1     thulium  microchip      1\n",
       "2   plutonium  generator      1\n",
       "3   strontium  generator      1\n",
       "4   plutonium  microchip      2\n",
       "5   strontium  microchip      2\n",
       "6  promethium  generator      3\n",
       "7  promethium  microchip      3\n",
       "8   ruthenium  generator      3\n",
       "9   ruthenium  microchip      3"
      ]
     },
     "execution_count": 171,
     "metadata": {},
     "output_type": "execute_result"
    }
   ],
   "source": [
    "finaldf"
   ]
  },
  {
   "cell_type": "code",
   "execution_count": 174,
   "metadata": {
    "collapsed": false
   },
   "outputs": [
    {
     "data": {
      "text/html": [
       "<div>\n",
       "<table border=\"1\" class=\"dataframe\">\n",
       "  <thead>\n",
       "    <tr style=\"text-align: right;\">\n",
       "      <th></th>\n",
       "      <th>0</th>\n",
       "      <th>1</th>\n",
       "    </tr>\n",
       "  </thead>\n",
       "  <tbody>\n",
       "    <tr>\n",
       "      <th>0</th>\n",
       "      <td>thulium</td>\n",
       "      <td>generator</td>\n",
       "    </tr>\n",
       "    <tr>\n",
       "      <th>1</th>\n",
       "      <td>thulium</td>\n",
       "      <td>microchip</td>\n",
       "    </tr>\n",
       "    <tr>\n",
       "      <th>2</th>\n",
       "      <td>plutonium</td>\n",
       "      <td>generator</td>\n",
       "    </tr>\n",
       "    <tr>\n",
       "      <th>3</th>\n",
       "      <td>strontium</td>\n",
       "      <td>generator</td>\n",
       "    </tr>\n",
       "    <tr>\n",
       "      <th>4</th>\n",
       "      <td>plutonium</td>\n",
       "      <td>microchip</td>\n",
       "    </tr>\n",
       "    <tr>\n",
       "      <th>5</th>\n",
       "      <td>strontium</td>\n",
       "      <td>microchip</td>\n",
       "    </tr>\n",
       "    <tr>\n",
       "      <th>6</th>\n",
       "      <td>promethium</td>\n",
       "      <td>generator</td>\n",
       "    </tr>\n",
       "    <tr>\n",
       "      <th>7</th>\n",
       "      <td>promethium</td>\n",
       "      <td>microchip</td>\n",
       "    </tr>\n",
       "    <tr>\n",
       "      <th>8</th>\n",
       "      <td>ruthenium</td>\n",
       "      <td>generator</td>\n",
       "    </tr>\n",
       "    <tr>\n",
       "      <th>9</th>\n",
       "      <td>ruthenium</td>\n",
       "      <td>microchip</td>\n",
       "    </tr>\n",
       "  </tbody>\n",
       "</table>\n",
       "</div>"
      ],
      "text/plain": [
       "            0          1\n",
       "0     thulium  generator\n",
       "1     thulium  microchip\n",
       "2   plutonium  generator\n",
       "3   strontium  generator\n",
       "4   plutonium  microchip\n",
       "5   strontium  microchip\n",
       "6  promethium  generator\n",
       "7  promethium  microchip\n",
       "8   ruthenium  generator\n",
       "9   ruthenium  microchip"
      ]
     },
     "execution_count": 174,
     "metadata": {},
     "output_type": "execute_result"
    }
   ],
   "source": [
    "pd.DataFrame([x.split('_') for x in finaldf_alt.loc[1].index])"
   ]
  },
  {
   "cell_type": "code",
   "execution_count": 128,
   "metadata": {
    "collapsed": false
   },
   "outputs": [],
   "source": [
    "currentdf=finaldf_alt.copy(deep=True)\n",
    "currfloor=currentdf.loc[1]\n",
    "currfloor=currfloor[currfloor==1]"
   ]
  },
  {
   "cell_type": "code",
   "execution_count": 142,
   "metadata": {
    "collapsed": false
   },
   "outputs": [
    {
     "data": {
      "text/plain": [
       "[['thulium_generator'],\n",
       " ['thulium_microchip'],\n",
       " ['plutonium_generator'],\n",
       " ['strontium_generator']]"
      ]
     },
     "execution_count": 142,
     "metadata": {},
     "output_type": "execute_result"
    }
   ],
   "source": [
    "comblist=currfloor.index.tolist()\n",
    "comblist2=[[x] for x in comblist]\n",
    "comblist2"
   ]
  },
  {
   "cell_type": "code",
   "execution_count": 144,
   "metadata": {
    "collapsed": false
   },
   "outputs": [
    {
     "data": {
      "text/plain": [
       "[['thulium_generator', 'thulium_microchip'],\n",
       " ['thulium_generator', 'plutonium_generator'],\n",
       " ['thulium_generator', 'strontium_generator'],\n",
       " ['thulium_microchip', 'plutonium_generator'],\n",
       " ['thulium_microchip', 'strontium_generator'],\n",
       " ['plutonium_generator', 'strontium_generator']]"
      ]
     },
     "execution_count": 144,
     "metadata": {},
     "output_type": "execute_result"
    }
   ],
   "source": [
    "[list(x) for x in itertools.combinations(comblist,2)]"
   ]
  },
  {
   "cell_type": "code",
   "execution_count": 181,
   "metadata": {
    "collapsed": false
   },
   "outputs": [],
   "source": [
    "def move_items(currentdf,move,elv_loc_prev):\n",
    "    if move[0]=='up':\n",
    "        movedir=1\n",
    "    elif move[0]=='down':\n",
    "        movedir=-1\n",
    "    else:\n",
    "        raise ValueError\n",
    "        \n",
    "    \n",
    "    \n",
    "\n",
    "def check_floors(currentdf):\n",
    "    for i in range(1,5):\n",
    "        floor=currentdf.loc[i]\n",
    "        floor=floor[floor==1]\n",
    "        if len(floor)>0:\n",
    "            tempdf= pd.DataFrame([x.split('_') for x in floor.index])\n",
    "            for element in tempdf[0].unique():\n",
    "                subdf=tempdf[tempdf[0]==element]\n",
    "                if len(subdf)==2:\n",
    "                    tempdf = tempdf[tempdf[0]!=element]\n",
    "            if len(tempdf[tempdf[1]=='generator'])>0 and len(tempdf[tempdf[1]=='microchip'])>0:\n",
    "                return False\n",
    "        \n",
    "    return True\n",
    "        \n",
    "        # remove pairs\n",
    "        \n",
    "\n",
    "def loc_possible_moves(currentdf,previousmove,elv_loc):\n",
    "    #first get all possible combinations from the current floor\n",
    "    currfloor=currentdf.loc[elv_loc]\n",
    "    currfloor=currfloor[currfloor==1].sort_index()\n",
    "    comblist=currfloor.index.tolist()\n",
    "    comblist2=[[x] for x in comblist]\n",
    "    print currfloor.index.tolist()\n",
    "    print comblist\n",
    "    for x in itertools.combinations(comblist,2):\n",
    "        print x\n",
    "    comblist2+=[list(x) for x in itertools.combinations(comblist,2)]\n",
    "    \n",
    "    if elv_loc==1:\n",
    "        comblist2=[['up']+x for x in comblist2]\n",
    "    elif elv_loc==4:\n",
    "        comblist2=[['down']+x for x in comblist2]\n",
    "    else:\n",
    "        comblist2=[['down']+x for x in comblist2]+[['up']+x for x in comblist2]\n",
    "    if len(previousmove)>0:\n",
    "        if previousmove[0]=='up':\n",
    "            previousmove[0]=='down'\n",
    "        else:\n",
    "            previousmove[0]=='up'\n",
    "        comblist.remove(previousmove)\n",
    "    \n",
    "    return comblist2\n",
    "\n",
    "\n",
    "def next_stop(currentdf,previousmove,elv_loc):\n",
    "    \n",
    "    out = check_floors(currentdf)\n",
    "    \n",
    "    possible_moves = loc_possible_moves(currentdf,[],elv_loc)"
   ]
  },
  {
   "cell_type": "code",
   "execution_count": 179,
   "metadata": {
    "collapsed": false
   },
   "outputs": [
    {
     "data": {
      "text/plain": [
       "True"
      ]
     },
     "execution_count": 179,
     "metadata": {},
     "output_type": "execute_result"
    }
   ],
   "source": [
    "check_floors(finaldf_alt)"
   ]
  },
  {
   "cell_type": "code",
   "execution_count": 170,
   "metadata": {
    "collapsed": false
   },
   "outputs": [
    {
     "name": "stdout",
     "output_type": "stream",
     "text": [
      "['plutonium_microchip', 'strontium_microchip']\n",
      "['plutonium_microchip', 'strontium_microchip']\n",
      "('plutonium_microchip', 'strontium_microchip')\n"
     ]
    },
    {
     "data": {
      "text/plain": [
       "[['down', 'plutonium_microchip'],\n",
       " ['down', 'strontium_microchip'],\n",
       " ['down', 'plutonium_microchip', 'strontium_microchip'],\n",
       " ['up', 'plutonium_microchip'],\n",
       " ['up', 'strontium_microchip'],\n",
       " ['up', 'plutonium_microchip', 'strontium_microchip']]"
      ]
     },
     "execution_count": 170,
     "metadata": {},
     "output_type": "execute_result"
    }
   ],
   "source": [
    "loc_possible_moves(finaldf_alt,[],2)\n"
   ]
  },
  {
   "cell_type": "code",
   "execution_count": 162,
   "metadata": {
    "collapsed": false
   },
   "outputs": [
    {
     "data": {
      "text/plain": [
       "True"
      ]
     },
     "execution_count": 162,
     "metadata": {},
     "output_type": "execute_result"
    }
   ],
   "source": [
    "['up', 'plutonium_microchip'] in [gg]"
   ]
  },
  {
   "cell_type": "code",
   "execution_count": 166,
   "metadata": {
    "collapsed": false
   },
   "outputs": [
    {
     "ename": "ValueError",
     "evalue": "list.remove(x): x not in list",
     "output_type": "error",
     "traceback": [
      "\u001b[0;31m---------------------------------------------------------------------------\u001b[0m",
      "\u001b[0;31mValueError\u001b[0m                                Traceback (most recent call last)",
      "\u001b[0;32m<ipython-input-166-4e10e42bfb7a>\u001b[0m in \u001b[0;36m<module>\u001b[0;34m()\u001b[0m\n\u001b[0;32m----> 1\u001b[0;31m \u001b[0mgg\u001b[0m\u001b[0;34m.\u001b[0m\u001b[0mremove\u001b[0m\u001b[0;34m(\u001b[0m\u001b[0;34m'up'\u001b[0m\u001b[0;34m)\u001b[0m\u001b[0;34m\u001b[0m\u001b[0m\n\u001b[0m",
      "\u001b[0;31mValueError\u001b[0m: list.remove(x): x not in list"
     ]
    }
   ],
   "source": [
    "gg.remove('up')"
   ]
  },
  {
   "cell_type": "code",
   "execution_count": 165,
   "metadata": {
    "collapsed": false
   },
   "outputs": [
    {
     "data": {
      "text/plain": [
       "['plutonium_microchip']"
      ]
     },
     "execution_count": 165,
     "metadata": {},
     "output_type": "execute_result"
    }
   ],
   "source": [
    "gg"
   ]
  },
  {
   "cell_type": "code",
   "execution_count": 57,
   "metadata": {
    "collapsed": true
   },
   "outputs": [],
   "source": [
    "import itertools"
   ]
  },
  {
   "cell_type": "code",
   "execution_count": 125,
   "metadata": {
    "collapsed": false
   },
   "outputs": [],
   "source": [
    "qqq=[list(x) for x in itertools.combinations(['a','b','c'],2)]"
   ]
  },
  {
   "cell_type": "code",
   "execution_count": 126,
   "metadata": {
    "collapsed": false
   },
   "outputs": [
    {
     "data": {
      "text/plain": [
       "[['a', 'b'], ['a', 'c'], ['b', 'c']]"
      ]
     },
     "execution_count": 126,
     "metadata": {},
     "output_type": "execute_result"
    }
   ],
   "source": [
    "qqq"
   ]
  },
  {
   "cell_type": "code",
   "execution_count": 75,
   "metadata": {
    "collapsed": false
   },
   "outputs": [],
   "source": [
    "f=['a','b','c']"
   ]
  },
  {
   "cell_type": "code",
   "execution_count": 76,
   "metadata": {
    "collapsed": true
   },
   "outputs": [],
   "source": [
    "f.insert(0,'d')"
   ]
  },
  {
   "cell_type": "code",
   "execution_count": 77,
   "metadata": {
    "collapsed": false
   },
   "outputs": [
    {
     "data": {
      "text/plain": [
       "['d', 'a', 'b', 'c']"
      ]
     },
     "execution_count": 77,
     "metadata": {},
     "output_type": "execute_result"
    }
   ],
   "source": [
    "f"
   ]
  },
  {
   "cell_type": "code",
   "execution_count": 185,
   "metadata": {
    "collapsed": false
   },
   "outputs": [
    {
     "ename": "ValueError",
     "evalue": "",
     "output_type": "error",
     "traceback": [
      "\u001b[0;31m---------------------------------------------------------------------------\u001b[0m",
      "\u001b[0;31mValueError\u001b[0m                                Traceback (most recent call last)",
      "\u001b[0;32m<ipython-input-185-94ef6d30a139>\u001b[0m in \u001b[0;36m<module>\u001b[0;34m()\u001b[0m\n\u001b[0;32m----> 1\u001b[0;31m \u001b[0;32mraise\u001b[0m \u001b[0mValueError\u001b[0m\u001b[0;34m\u001b[0m\u001b[0m\n\u001b[0m",
      "\u001b[0;31mValueError\u001b[0m: "
     ]
    }
   ],
   "source": [
    "raise ValueError"
   ]
  },
  {
   "cell_type": "code",
   "execution_count": null,
   "metadata": {
    "collapsed": true
   },
   "outputs": [],
   "source": []
  }
 ],
 "metadata": {
  "kernelspec": {
   "display_name": "Python 2",
   "language": "python",
   "name": "python2"
  },
  "language_info": {
   "codemirror_mode": {
    "name": "ipython",
    "version": 2
   },
   "file_extension": ".py",
   "mimetype": "text/x-python",
   "name": "python",
   "nbconvert_exporter": "python",
   "pygments_lexer": "ipython2",
   "version": "2.7.11"
  }
 },
 "nbformat": 4,
 "nbformat_minor": 0
}
